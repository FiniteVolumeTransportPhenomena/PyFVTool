{
 "cells": [
  {
   "cell_type": "code",
   "execution_count": null,
   "id": "ee81e01d",
   "metadata": {},
   "outputs": [],
   "source": [
    "import matplotlib.pyplot as plt\n",
    "%matplotlib notebook\n",
    "\n",
    "import numpy as np"
   ]
  },
  {
   "cell_type": "markdown",
   "id": "3ac3d68b",
   "metadata": {},
   "source": [
    "## An introduction / demonstration of the PyFVTool"
   ]
  },
  {
   "cell_type": "code",
   "execution_count": null,
   "id": "2e07005d",
   "metadata": {},
   "outputs": [],
   "source": [
    "import pyfvtool as pyfvm\n",
    "from pyfvtool import *"
   ]
  },
  {
   "cell_type": "markdown",
   "id": "9d3ace33",
   "metadata": {},
   "source": [
    "<a id=\"mesh_ID\"></a>\n",
    "### create a  mesh and visualize it"
   ]
  },
  {
   "cell_type": "code",
   "execution_count": null,
   "id": "2a6cb98e",
   "metadata": {},
   "outputs": [],
   "source": [
    "L = 1.0  # length of the domain\n",
    "Nx = 10  # number of cells in the domain"
   ]
  },
  {
   "cell_type": "code",
   "execution_count": null,
   "id": "f81d1e37",
   "metadata": {},
   "outputs": [],
   "source": [
    "# The 1D domain is stored in a mesh-structure object under pyfvtool.mesh.*\n",
    "m = createMesh1D(Nx, L) # mesh-structure\n",
    "\n",
    "# Look at the structure of the mesh that was created\n",
    "print(m)\n",
    "\n"
   ]
  },
  {
   "cell_type": "code",
   "execution_count": null,
   "id": "c2f86bcf",
   "metadata": {},
   "outputs": [],
   "source": [
    "# 1D meshes can be created in two ways because the function is overloaded\n",
    "help(createMesh1D)\n"
   ]
  },
  {
   "cell_type": "code",
   "execution_count": null,
   "id": "caa4c0f5",
   "metadata": {},
   "outputs": [],
   "source": [
    "help(pyfvm.mesh.MeshStructure)\n",
    "\n",
    "# 1D, 2D, 3D, 1D radial (axial symmetry), and 2D cylindrical grids can be constructed: \n",
    "# s. the below help functions for more details\n",
    "# help(createMesh1D)\n",
    "# help(createMesh2D)\n",
    "# help(createMesh3D)\n",
    "# help(createMeshCylindrical1D)\n",
    "# help(createMeshCylindrical2D)"
   ]
  },
  {
   "cell_type": "code",
   "execution_count": null,
   "id": "a00da477",
   "metadata": {},
   "outputs": [],
   "source": [
    "\n",
    "# Visualize the 1D discretization that we created above\n",
    "hfig, ax = plt.subplots(1,1, num='Grid discretization')\n",
    "ax.plot(m.cellcenters.x, np.ones(np.shape(m.cellcenters.x), dtype=float), 'or', label='cell centers')\n",
    "ax.plot(m.facecenters.x, np.ones(np.shape(m.facecenters.x), dtype=float), '-+b', label='face centers')\n",
    "plt.legend(fontsize=12, loc='best')\n",
    "ax.set_title('Visualization of a 1D discretized domain')"
   ]
  },
  {
   "cell_type": "code",
   "execution_count": null,
   "id": "dbed1d79",
   "metadata": {},
   "outputs": [],
   "source": [
    "# create a 2D grid and visualize it\n",
    "Nx, Ny = int(5), int(7)\n",
    "Lx, Ly = float(10), float(20)\n",
    "m = createMesh2D(Nx, Ny, Lx, Ly)\n",
    "\n",
    "# note:  \n",
    "# MATLAB's meshgrid function is equivalent to numpy.meshgrid(..., indexing='xy') --> plotting\n",
    "# MATLAB's ndgrid function is equivalent to numpy.meshgrid(..., indexing='ij') --> matrix math\n",
    "X, Y = np.meshgrid(m.cellcenters.x, m.cellcenters.y, indexing='ij')\n",
    "Xf, Yf = np.meshgrid(m.facecenters.x, m.facecenters.y, indexing='ij')\n",
    "\n",
    "plt.figure()\n",
    "plt.plot(X, Y, 'or', label='nodes')\n",
    "plt.plot(Xf, Yf, 'b-', label='faces (west/east)')\n",
    "plt.plot(Xf.T, Yf.T, 'b-', label='faces (north/south)')\n",
    "\n"
   ]
  },
  {
   "cell_type": "code",
   "execution_count": null,
   "id": "09786667",
   "metadata": {},
   "outputs": [],
   "source": [
    "# create a 2D grid and visualize it\n",
    "Nx, Ny, Nz = int(2), int(3), int(4)\n",
    "Lx, Ly, Lz = float(1.0), float(2.0), float(3.0)\n",
    "m = createMesh3D(Nx, Ny, Nz, Lx, Ly, Lz)\n",
    "\n",
    "X, Y, Z = np.meshgrid(m.cellcenters.x, m.cellcenters.y, m.cellcenters.z,  indexing='ij')\n",
    "Xf, Yf, Zf = np.meshgrid(m.facecenters.x, m.facecenters.y, m.facecenters.z,  indexing='ij')\n"
   ]
  },
  {
   "cell_type": "code",
   "execution_count": null,
   "id": "3e771f2e",
   "metadata": {},
   "outputs": [],
   "source": [
    "# Plot the 3D grid in an interactive projection\n",
    "hfig = plt.figure()\n",
    "ax = plt.axes(projection='3d')\n",
    "\n",
    "ax.plot3D(X.flatten(), Y.flatten(), Z.flatten(), 'ro', label='cell nodes')\n",
    "ax.plot3D(Xf.flatten(), Yf.flatten(), Zf.flatten(), 'b+', label='cell corners')\n",
    "ax.legend(fontsize=12, loc='best')"
   ]
  },
  {
   "cell_type": "markdown",
   "id": "73495793",
   "metadata": {},
   "source": [
    "<a id=\"boundary_id\"></a>\n",
    "### Boundary condition structure"
   ]
  },
  {
   "cell_type": "markdown",
   "id": "15a46690",
   "metadata": {},
   "source": [
    "I had so many reasons to write this toy toolbox, of which, the most important one was to be able to implement different boundary conditions in the most convenient way! My final implementation makes the user able to define either a periodic boundary condition or a general boundary condition of the following form:\n",
    "\n",
    "$$a (\\nabla \\phi .\\mathbf{n}) + b \\phi = c $$\n",
    "\n",
    "In the above equation, $\\phi$ is the unknown, and a, b, and c are constants. In practice, this boundary condition equation will be discretized to the following system of algebraic equations:\n",
    "\n",
    "$$M_{bc} \\phi = {RHS}_{bc}$$\n",
    "\n",
    "By adjusting the values of a and b, onne can easily define one of the following well-known boundary conditions:\n",
    "\n",
    " - Neumann (a is nonzero; b is 0)\n",
    " - Dirichlet (a is zero; b is nonzero)\n",
    " - Robin (a and b are both nonzero)"
   ]
  },
  {
   "cell_type": "code",
   "execution_count": null,
   "id": "587ee3ab",
   "metadata": {},
   "outputs": [],
   "source": [
    "# %reset -f\n",
    "\n",
    "# import numpy as np\n",
    "# import matplotlib.pyplot as plt\n",
    "# %matplotlib notebook\n",
    "\n",
    "\n",
    "# import pyfvtool as pyfvm\n",
    "# from pyfvtool import *"
   ]
  },
  {
   "cell_type": "code",
   "execution_count": null,
   "id": "e8cd6f72",
   "metadata": {},
   "outputs": [],
   "source": [
    "Nx = 10  # number of cells in the domain\n",
    "Lx = 1.0  # length of the domain\n",
    "m = createMesh1D(Nx, Lx)  # createMesh and createMesh are identical\n",
    "BC = createBC(m)  # creates a boundary condition structure\n",
    "print(BC) # display the BC structure"
   ]
  },
  {
   "cell_type": "code",
   "execution_count": null,
   "id": "5d9f18ff",
   "metadata": {},
   "outputs": [],
   "source": [
    "# Display only information from the left boundary\n",
    "print(BC.left)   # a non-zero, b and c == 0, --> homogeneous Neumann BC at left boundary\n",
    "\n",
    "# display information from right boundary\n",
    "# print(BC.right)  # same as left boundary --> homogeneous Neumann BC at right-boundary\n",
    "\n",
    "# Boundary conditions can be editted on the fly \n",
    "BC.left.a = 0\n",
    "BC.left.b = 1  # homogeneous Dirichlet boundary condition\n",
    "BC.left.c = 0  \n",
    "\n",
    "# Periodic boundary conditions override the other settings (take precedence)\n",
    "BC.left.periodic = True\n",
    "\n",
    "print(BC.left)"
   ]
  },
  {
   "cell_type": "markdown",
   "id": "42a7ce37",
   "metadata": {},
   "source": [
    "For boundary condition structures created for 2D and 3D grids, we will have left, right, bottom, top, back, and front boundaries and thus substructures. Let me show them to you in action:"
   ]
  },
  {
   "cell_type": "code",
   "execution_count": null,
   "id": "4b6bb4c1",
   "metadata": {},
   "outputs": [],
   "source": [
    "m = createMesh2D(3, 4, 1.0, 2.0)  # Nx, Ny, Lx, Ly\n",
    "BC = createBC(m)    \n",
    "\n",
    "print(BC)\n",
    "print(BC.top)\n"
   ]
  },
  {
   "cell_type": "markdown",
   "id": "de3f0876",
   "metadata": {},
   "source": [
    "Yes, that's right. a, b, and c are vectors. It means that you can have different boundary conditions for different cell faces at each boundary. For instance, I can have a Neumann boundary condition for the first cell and a Dirichlet boundary condition for the last cell at the top boundary:\n"
   ]
  },
  {
   "cell_type": "code",
   "execution_count": null,
   "id": "e80812de",
   "metadata": {},
   "outputs": [],
   "source": [
    "# homogeneous Neumann\n",
    "BC.top.a[0] = 1\n",
    "BC.top.b[0] = 0\n",
    "BC.top.c[0] = 0\n",
    "\n",
    "# homogeneous Dirichlet\n",
    "BC.top.a[-1] = 0\n",
    "BC.top.b[-1] = 1\n",
    "BC.top.c[-1] = 0\n",
    "\n",
    "# Some fancy display!\n",
    "print('  a  b  c (top)')\n",
    "print('---------------')\n",
    "print(np.hstack((np.atleast_2d(BC.top.a).T, np.atleast_2d(BC.top.b).T, np.atleast_2d(BC.top.c).T)))\n",
    "\n",
    "# top.  a     b     c\n",
    "#    ---------------\n",
    "#      1     0     0\n",
    "#      1     0     0\n",
    "#      0     1     0\n",
    "\n"
   ]
  },
  {
   "cell_type": "markdown",
   "id": "ef99e2e6",
   "metadata": {},
   "source": [
    "The same procedure can be followed for a 3D grid. However, a, b, and c values are 2D matrices for a 3D grid. I will discuss it in more details when we reach the practical examples. Important note: If you need to assign a boundary condition to the entire boundary, use (:) in your assignment. For instance, to define a Dirichlet boundary for the right boundary, you may write\n",
    "\n",
    "\n"
   ]
  },
  {
   "cell_type": "code",
   "execution_count": null,
   "id": "ce32e0c2",
   "metadata": {},
   "outputs": [],
   "source": [
    "BC.right.a[:] = 0\n",
    "BC.right.b[:] = 1\n",
    "BC.right.c[:] = 0\n",
    "\n",
    "print('  a  b  c (right)')\n",
    "print('---------------')\n",
    "print(np.hstack((np.atleast_2d(BC.right.a).T, np.atleast_2d(BC.right.b).T, np.atleast_2d(BC.right.c).T)))\n"
   ]
  },
  {
   "cell_type": "markdown",
   "id": "fb3c7042",
   "metadata": {},
   "source": [
    "<a id=\"diffusion_ID\"></a>\n",
    "### Solve a diffusion equation"
   ]
  },
  {
   "cell_type": "markdown",
   "id": "fd40c4b6",
   "metadata": {},
   "source": [
    "As the first example, we solve a steady-state diffusion equation of the following form\n",
    "\n",
    "$$\\nabla\\cdot\\left(-D\\nabla c\\right)=0$$\n",
    "\n",
    "where $D$ is the diffusivity and $c$ is the concentration. Let me assume that we have a 1D domain, with Dirichlet boundary conditions at both boundaries, i.e., at $x$=0, $c$=1; and at $x$=$L$, $c$=0. First of all, we need to define our domain, discretize it, and define the boundaries at the borders.\n",
    "\n",
    "Note:  This is a boundary value problem  nad we are solving for th efinal, steady-state solution"
   ]
  },
  {
   "cell_type": "code",
   "execution_count": null,
   "id": "73248068",
   "metadata": {},
   "outputs": [],
   "source": [
    "# %reset -f\n",
    "\n",
    "# import numpy as np\n",
    "# import matplotlib.pyplot as plt\n",
    "# %matplotlib notebook\n",
    "\n",
    "\n",
    "# import pyfvtool as pyfvm\n",
    "# from pyfvtool import *"
   ]
  },
  {
   "cell_type": "code",
   "execution_count": null,
   "id": "717f65cb",
   "metadata": {},
   "outputs": [],
   "source": [
    "L = 0.01  # a 1 cm domain\n",
    "Nx = 10   # number of cells\n",
    "m = createMesh1D(Nx, L)  # create the mesh (note: due to overloading, we cannot use keyword arguments. The parser is not smart enough for that, shame)\n",
    "BC = createBC(m)  # construct the BC structure (Neumann by default)\n",
    "\n",
    "# Now switch from Neumann boundary conditions to Dirichlet conditions:\n",
    "BC.left.a[:], BC.left.b[:], BC.left.c[:] = 0, 1, 0      # left boundary \n",
    "BC.right.a[:], BC.right.b[:], BC.right.c[:] = 0, 1, 1   # right boundary\n",
    "\n",
    "print(BC.left)\n",
    "print(BC.right)"
   ]
  },
  {
   "cell_type": "code",
   "execution_count": null,
   "id": "369faf61",
   "metadata": {},
   "outputs": [],
   "source": []
  },
  {
   "cell_type": "markdown",
   "id": "6db759e2",
   "metadata": {},
   "source": [
    "The next sep is to define the diffusivity coefficient. In this FVTool, the physical properties of the domain are defined for each cell, with the function createCellVariable"
   ]
  },
  {
   "cell_type": "code",
   "execution_count": null,
   "id": "61e6ba07",
   "metadata": {},
   "outputs": [],
   "source": [
    "# D is a variable on the mesh\n",
    "# call signature looks like: createCellVariable(meshStructure, value)\n",
    "D = createCellVariable(m, 1e-5)  # assign a constant value of 1e-5 to diffusivity value on each cell\n"
   ]
  },
  {
   "cell_type": "markdown",
   "id": "2550225c",
   "metadata": {},
   "source": [
    "However, the transfer coefficients must be known on the face of each cell. For this reason, we have a few averaging schemes implemented in the Utilities folder. For a 1D domain, we can use a harmonic mean scheme:"
   ]
  },
  {
   "cell_type": "code",
   "execution_count": null,
   "id": "f781954c",
   "metadata": {},
   "outputs": [],
   "source": [
    "# Note:\n",
    "#  - this \"averaging\" is actually an interpolation. It takes the nearest neighbor harmonic mean\n",
    "#  - the harmonic mean skews towards outliers with small values\n",
    "D_face = harmonicMean(D)  # average diffusivity value on the cell faces."
   ]
  },
  {
   "cell_type": "markdown",
   "id": "553c4774",
   "metadata": {},
   "source": [
    "Now, we can convert the PDE to a algebraic system of linear equations, i.e.,\n",
    "\n",
    "$$\\nabla\\cdot\\left(-D\\nabla c\\right) \\approx Mc = 0$$\n",
    "\n",
    "where M is the matrix of coefficient that is going to be calculated using this toolbox. The matrix of coefficient, M has two parts. The diffusion equation and the boundary conditions. They are calculated by:"
   ]
  },
  {
   "cell_type": "code",
   "execution_count": null,
   "id": "ffa24814",
   "metadata": {},
   "outputs": [],
   "source": [
    "M_diff = diffusionTerm(D_face)  #  matrix of coefficients for diffusion term\n",
    "M_bc, RHS_bc = pyfvm.boundary.boundaryCondition(BC) # matrix of coefficient and RHS vector for the boundary condition\n"
   ]
  },
  {
   "cell_type": "markdown",
   "id": "f7fb8fd4",
   "metadata": {},
   "source": [
    "A vector of right hand side values are always obtained during the discretization of the boundary conditions. Now that the PDE is discretized, we can solve it by a scipy linear solver."
   ]
  },
  {
   "cell_type": "code",
   "execution_count": null,
   "id": "4033ce24",
   "metadata": {},
   "outputs": [],
   "source": [
    "# Signature:\n",
    "# result = solvePDE(meshStructure, csr_array, csr_array)\n",
    "c = solvePDE(m, M_diff+M_bc, RHS_bc)\n"
   ]
  },
  {
   "cell_type": "code",
   "execution_count": null,
   "id": "31d50e92",
   "metadata": {},
   "outputs": [],
   "source": [
    "# visualize the solution\n",
    "plt.figure()\n",
    "visualizeCells(c)"
   ]
  },
  {
   "cell_type": "markdown",
   "id": "30919e8e",
   "metadata": {},
   "source": [
    "Just to get excited a little bit, only change the mesh definition command from createMesh1D(Nx,L) to createMesh2D(Nx,Nx,L,L), run the code and see what happens. For even more excitement, change it to createMesh3D(Nx,Nx,Nx,L,L,L). This is usually the way we develop new mathematical models for a physical phenomenon. Write the equation, solve it in 1D, compare it to the analytical solution, then solve it numerically in 2D and 3D for more realistic cases with heterogeneous transfer coefficients and other nonidealities (and perhaps compare it to some experimental data)"
   ]
  },
  {
   "cell_type": "code",
   "execution_count": null,
   "id": "d6b90a73",
   "metadata": {},
   "outputs": [],
   "source": [
    "# 2D\n",
    "# %reset -f\n",
    "\n",
    "# import numpy as np\n",
    "# import matplotlib.pyplot as plt\n",
    "# %matplotlib notebook\n",
    "\n",
    "\n",
    "# import pyfvtool as pyfvm\n",
    "# from pyfvtool import *\n",
    "\n",
    "# ============= #\n",
    "\n",
    "L = 0.01  # a 1 cm domain\n",
    "Nx = 10   # number of cells\n",
    "m = createMesh2D(Nx, Nx, L, L)  # create the mesh (note: due to overloading, we cannot use keyword arguments. The parser is not smart enough for that, shame)\n",
    "BC = createBC(m)  # construct the BC structure (Neumann by default)\n",
    "\n",
    "# Now switch from Neumann boundary conditions to Dirichlet conditions:\n",
    "BC.left.a[:], BC.left.b[:], BC.left.c[:] = 0, 1, 0      # left boundary: homogeneous Dirichlet left-side \n",
    "BC.right.a[:], BC.right.b[:], BC.right.c[:] = 0, 1, 1   # right boundary: inhomogeneous Dirchlet right-side\n",
    "\n",
    "# Create a face-variable for the diffusion coefficient\n",
    "D = createCellVariable(m, 1e-5)  # define the diffusivity\n",
    "D_face = harmonicMean(D)  # interpolate to face positions\n",
    "\n",
    "# Create the coefficient matrix and source vectors\n",
    "M_diff = diffusionTerm(D_face)  #  matrix of coefficients for diffusion term\n",
    "M_bc, RHS_bc = pyfvm.boundary.boundaryCondition(BC)\n",
    "\n",
    "# Solve the problem in 2D\n",
    "c = solvePDE(m, M_diff+M_bc, RHS_bc)\n",
    "\n",
    "# Visualize the solution\n",
    "plt.figure()\n",
    "visualizeCells(c)\n",
    "plt.colorbar()"
   ]
  },
  {
   "cell_type": "code",
   "execution_count": null,
   "id": "4d353611",
   "metadata": {},
   "outputs": [],
   "source": [
    "# 3D\n",
    "# %reset -f\n",
    "\n",
    "# import numpy as np\n",
    "# import matplotlib.pyplot as plt\n",
    "# %matplotlib notebook\n",
    "\n",
    "\n",
    "# import pyfvtool as pyfvm\n",
    "# from pyfvtool import *\n",
    "\n",
    "# ============= #\n",
    "\n",
    "L = 0.01  # a 1 cm domain\n",
    "Nx = 10   # number of cells\n",
    "m = createMesh3D(Nx, Nx, Nx, L, L, L)  # create the mesh (note: due to overloading, we cannot use keyword arguments. The parser is not smart enough for that, shame)\n",
    "BC = createBC(m)  # construct the BC structure (Neumann by default)\n",
    "\n",
    "# Now switch from Neumann boundary conditions to Dirichlet conditions:\n",
    "BC.left.a[:], BC.left.b[:], BC.left.c[:] = 0, 1, 0      # left boundary: homogeneous Neumann left-boundary \n",
    "BC.right.a[:], BC.right.b[:], BC.right.c[:] = 0, 1, 1   # right boundary: inhomogeneous Neumann right-boundary\n",
    "\n",
    "# Create a face-variable for the diffusion coefficient\n",
    "D = createCellVariable(m, 1e-5)  # define the diffusivity\n",
    "D_face = harmonicMean(D)  # interpolate to face positions\n",
    "\n",
    "# Create the coefficient matrix and source vectors\n",
    "M_diff = diffusionTerm(D_face)  #  matrix of coefficients for diffusion term\n",
    "M_bc, RHS_bc = pyfvm.boundary.boundaryCondition(BC)\n",
    "\n",
    "# Solve the problem in 2D\n",
    "c = solvePDE(m, M_diff+M_bc, RHS_bc)\n",
    "\n",
    "# Visualize the solution\n",
    "hfig = plt.figure()\n",
    "ax = hfig.add_subplot(projection='3d')\n",
    "visualizeCells(c)\n",
    "# plt.colorbar()"
   ]
  },
  {
   "cell_type": "markdown",
   "id": "c01db4bf",
   "metadata": {},
   "source": [
    "<a id=\"convection_diffusion_ID\"></a>\n",
    "### Solve a convection-diffusion equation and compare it to an analytic solution"
   ]
  },
  {
   "cell_type": "markdown",
   "id": "375df653",
   "metadata": {},
   "source": [
    "Here, I'm going to add a convection term to what we solved in the previous example. This tutorial is adopted from the fipy convection-diffusion example you can find at this address:\n",
    "\n",
    "http://www.ctcms.nist.gov/fipy/examples/convection/index.html\n",
    "\n",
    "The differential equation reads\n",
    "\n",
    "$$\\nabla\\cdot\\left(\\mathbf{u} \\phi -D\\nabla \\phi \\right)=0$$\n",
    "\n",
    "Here, $\\mathbf{u}$ is a velocity vector (face variable) and $D$ is the diffusion coefficient (again a face variable). Please see the PDF document for an explanation of cell and face variables. We use Dirichlet (constant value) boundary conditions on the left and right boundaries. It is zero at the left boundary and one at the right boundary. The analytical solution of this differential equation reads\n",
    "\n",
    "$$c = \\frac{1-exp(ux/D)}{1-exp(uL/D)}$$\n",
    "\n"
   ]
  },
  {
   "cell_type": "code",
   "execution_count": null,
   "id": "3700cc9e",
   "metadata": {},
   "outputs": [],
   "source": [
    "# %reset -f\n",
    "\n",
    "# import numpy as np\n",
    "# import matplotlib.pyplot as plt\n",
    "# %matplotlib notebook\n",
    "\n",
    "\n",
    "# import pyfvtool as pyfvm\n",
    "# from pyfvtool import *"
   ]
  },
  {
   "cell_type": "code",
   "execution_count": null,
   "id": "eb98fba8",
   "metadata": {},
   "outputs": [],
   "source": [
    "# Define the domain and mesh\n",
    "L = 1    # domain length\n",
    "Nx = 25  # number of cells\n",
    "meshstruct = createMesh1D(Nx, L)\n",
    "x = meshstruct.cellcenters.x   #  extract the cell center positions"
   ]
  },
  {
   "cell_type": "code",
   "execution_count": null,
   "id": "608d502f",
   "metadata": {},
   "outputs": [],
   "source": [
    "# Define the boundary condition\n",
    "BC = createBC(meshstruct)   # all Neumann boundary condition structure\n",
    "BC.left.a, BC.left.b, BC.left.c = 0, 1, 0    # switch the left boundary to homogeneous Dirichlet\n",
    "BC.right.a, BC.right.b, BC.right.c = 0, 1, 1 # switch the right boundary to inhomogeneous Dirichlet"
   ]
  },
  {
   "cell_type": "code",
   "execution_count": null,
   "id": "1f5d4ee7",
   "metadata": {},
   "outputs": [],
   "source": [
    "# Now we define the transfer coefficients:\n",
    "D_val = 1.0  # diffusion coefficient value\n",
    "D = createCellVariable(meshstruct, D_val)  # assign dif. coef. to all the cells\n",
    "Dave = harmonicMean(D)    # convert a cell variable to face variable\n",
    "\n",
    "u = -10 # velocity value\n",
    "u_face = createFaceVariable(meshstruct, u)  # assign velocity value to cell faces\n"
   ]
  },
  {
   "cell_type": "markdown",
   "id": "b2d03fe7",
   "metadata": {},
   "source": [
    "Now we discretize the differential equation into a system of linear algebraic equations:\n",
    "\n",
    "$$(M_{conv}-M_{diff}+M_{bc})\\phi={RHS}_{bc}$$\n",
    "\n",
    "or if we use an upwind discretization scheme, we will obtain:\n",
    "\n",
    "$$(M_{conv,uw}-M_{diff}+M_{bc})\\phi={RHS}_{bc}$$"
   ]
  },
  {
   "cell_type": "code",
   "execution_count": null,
   "id": "dd6cfe17",
   "metadata": {},
   "outputs": [],
   "source": [
    "# convection term, central, second order\n",
    "Mconv =  convectionTerm(u_face) \n",
    "\n",
    "#  convection term, upwind, first order\n",
    "Mconvupwind = convectionUpwindTerm(u_face) \n",
    "\n",
    "# Diffusion term\n",
    "Mdiff = diffusionTerm(Dave)\n",
    "\n",
    "# boundary condition discretization\n",
    "Mbc, RHSbc = pyfvm.boundary.boundaryCondition(BC)\n",
    "\n",
    "# Coefficient matrix for central finite-differencing scheme\n",
    "M = Mconv - Mdiff + Mbc \n",
    "\n",
    "# Coefficient matrix for upwind discretization scheme\n",
    "Mupwind = Mconvupwind-Mdiff+Mbc\n",
    "\n",
    "# Righ-hand-side vector\n",
    "RHS = RHSbc\n",
    "\n",
    "# solve for the central scheme\n",
    "c = solvePDE(meshstruct, M, RHS)\n",
    "\n",
    "# solve for the upwind scheme\n",
    "c_upwind = solvePDE(meshstruct, Mupwind, RHS)\n",
    "\n",
    "# analytic solution\n",
    "c_analytical = (1-np.exp(u*x/D_val))/(1-np.exp(u*L/D_val))\n",
    "\n",
    "# visualization\n",
    "plt.figure()\n",
    "plt.plot(x, c.value[1:Nx+1], '-', label='central')\n",
    "plt.plot(x, c_upwind.value[1:Nx+1], '--', label='upwind')\n",
    "plt.plot(x, c_analytical, '.', label='analytic')\n",
    "plt.legend(fontsize=12, loc='best')"
   ]
  },
  {
   "cell_type": "markdown",
   "id": "0d6405ba",
   "metadata": {},
   "source": [
    "As you see here, we obtain a more accurate result by using a central difference discretization scheme for the convection term compared to the first order upwind."
   ]
  },
  {
   "cell_type": "markdown",
   "id": "7fc2ff8c",
   "metadata": {},
   "source": [
    "<a id=\"transient_diffusion_ID\"></a>\n",
    "### Solve a transient diffusion equation"
   ]
  },
  {
   "cell_type": "markdown",
   "id": "aedce5ac",
   "metadata": {},
   "source": [
    "This tutorial is adapted from the fipy 1D diffusion example\n",
    "\n",
    "FiPy diffusion tutorial The transient diffusion equation reads\n",
    "\n",
    "$$\\alpha\\frac{\\partial c}{\\partial t}+\\nabla.\\left(-D\\nabla c\\right)=0,$$\n",
    "\n",
    "where $c$ is the independent variable (concentration, temperature, etc) , $D$ is the diffusion coefficient, and $\\alpha$ is a constant.\n"
   ]
  },
  {
   "cell_type": "code",
   "execution_count": null,
   "id": "32e5f01e",
   "metadata": {},
   "outputs": [],
   "source": [
    "# Define the domain and create a mesh structure\n",
    "L = 50   # domain length\n",
    "Nx = 20  # number of cells\n",
    "m = createMesh1D(Nx, L)\n",
    "x = m.cellcenters.x  # cell centers position"
   ]
  },
  {
   "cell_type": "code",
   "execution_count": null,
   "id": "3b1eec08",
   "metadata": {},
   "outputs": [],
   "source": [
    "# Create the boundary condition structure:\n",
    "BC = createBC(m)  # all Neumann boundary condition structure\n",
    "\n",
    "# Switch the left and right boundaries to Dirichlet:\n",
    "BC.left.a, BC.left.b, BC.left.c = 0, 1, 1    # left boundary\n",
    "BC.right.a, BC.right.b, BC.right.c = 0, 1, 0 # right boundary"
   ]
  },
  {
   "cell_type": "code",
   "execution_count": null,
   "id": "f18ea390",
   "metadata": {},
   "outputs": [],
   "source": [
    "# Define the transfer coefficients:\n",
    "D_val = 1\n",
    "D = createCellVariable(m, D_val)\n",
    "Dave = harmonicMean(D)  # convert it to face variables\n",
    "\n",
    "# Define alfa, the coefficient of the transient term:\n",
    "alfa_val = 1\n",
    "alfa = createCellVariable(m, alfa_val)"
   ]
  },
  {
   "cell_type": "code",
   "execution_count": null,
   "id": "2e5d3f60",
   "metadata": {},
   "outputs": [],
   "source": [
    "# Define the initial values:\n",
    "c_init = 0\n",
    "c_old = createCellVariable(m, c_init, BC)  # initial values\n",
    "c = c_old  # assign the old value of the cells to the current values"
   ]
  },
  {
   "cell_type": "code",
   "execution_count": null,
   "id": "7b85b0af",
   "metadata": {},
   "outputs": [],
   "source": [
    "# Now define the time step and the final time:\n",
    "dt = 0.1  # time step\n",
    "final_t = 100\n"
   ]
  },
  {
   "cell_type": "markdown",
   "id": "35c28d41",
   "metadata": {},
   "source": [
    "Here, we first define the coefficient matrices that will not change as we progress in time, viz. diffusion term and boundary condition:\n"
   ]
  },
  {
   "cell_type": "code",
   "execution_count": null,
   "id": "c18d087b",
   "metadata": {},
   "outputs": [],
   "source": [
    "Mdiff = diffusionTerm(Dave)\n",
    "Mbc, RHSbc = pyfvm.boundary.boundaryCondition(BC)"
   ]
  },
  {
   "cell_type": "markdown",
   "id": "622917f4",
   "metadata": {},
   "source": [
    "The transitionTerm function gives a matrix of coefficient and a RHS vector. The matrix of coefficient does not change in each time step, but the RHS does (see the PDF documents). Therefore, we need to call the function inside the time loop. Start the loop here:"
   ]
  },
  {
   "cell_type": "code",
   "execution_count": null,
   "id": "c743b823",
   "metadata": {},
   "outputs": [],
   "source": [
    "# import the error function from scipy\n",
    "from scipy.special import erf"
   ]
  },
  {
   "cell_type": "code",
   "execution_count": null,
   "id": "761e4fae",
   "metadata": {},
   "outputs": [],
   "source": [
    "tt = np.arange(start=dt, stop=final_t, step=dt) # t=dt:dt:final_t\n",
    "\n",
    "ci = []\n",
    "ca = []\n",
    "for ii, t in enumerate(tt):        \n",
    "    M_trans, RHS_trans = transientTerm(c_old, dt, alfa)\n",
    "    \n",
    "    M = M_trans-Mdiff+Mbc\n",
    "    RHS = RHS_trans+RHSbc\n",
    "    \n",
    "    ci.append( solvePDE(m, M, RHS) )\n",
    "    \n",
    "    ca.append( 1.0-erf(x/(2*np.sqrt(D_val*t))))\n",
    "    c_old = ci[ii]"
   ]
  },
  {
   "cell_type": "code",
   "execution_count": null,
   "id": "7c5239b7",
   "metadata": {},
   "outputs": [],
   "source": [
    "# Now visualize the final results\n",
    "plt.figure()\n",
    "plt.plot(x, ci[-1].value[1:Nx+1], 'o', label='Numerical')\n",
    "plt.plot(x, ca[-1], '-', label='Analytic')\n",
    "plt.xlabel('Length [m]')\n",
    "plt.ylabel('c')\n",
    "plt.legend(fontsize=12, loc='best')\n"
   ]
  },
  {
   "cell_type": "code",
   "execution_count": null,
   "id": "2f1aa301",
   "metadata": {},
   "outputs": [],
   "source": [
    "# Plotting and visualization of the 1D transient diffusion solution  \n",
    "from matplotlib.animation import FuncAnimation\n",
    "\n",
    "hfig1, ax1 = plt.subplots()\n",
    "\n",
    "# xx, uu = pyfvm.utilities.get_CellVariable_profile1D(ci[0])\n",
    "# ax1.plot(xx, uu, 'b-', label='initial value')\n",
    "ax1.plot(x, ca[0], 'bo', label='initial analytic value')\n",
    "ax1.plot(x, ci[0].value[1:Nx+1], 'b-', label='initial numerical value')\n",
    "\n",
    "\n",
    "# xx, uu = pyfvm.utilities.get_CellVariable_profile1D(ci[-1])\n",
    "# ax1.plot(xx, uu, 'r-', label='final value')\n",
    "ax1.plot(x, ca[-1], 'ro', label='final analytic value')\n",
    "ax1.plot(x, ci[-1].value[1:Nx+1], 'r-', label='final numerical value')\n",
    "\n",
    "ax1.set_xlim((0, L))\n",
    "ax1.set_ylim((0.0, 1.0))\n",
    "\n",
    "ax1.set_xlabel('x')\n",
    "ax1.set_ylabel('c')\n",
    "ax1.set_title('Transient diffusion')\n",
    "ax1.legend(fontsize=8)\n",
    "\n",
    "# ========= #\n",
    "\n",
    "# create a figure to handle the solution animation\n",
    "#   pre-generate the handles to the axes and the line\n",
    "hfig2 = plt.figure()\n",
    "ax2 = plt.axes(xlim=(0, L), ylim=(0.0, 1.0))\n",
    "line, = ax2.plot([], [], 'k-', lw=3, label='Numerical solution')\n",
    "circ, = ax2.plot([], [], 'o', lw=3, label='Analytic solution')\n",
    "\n",
    "ax2.set_xlabel('x')\n",
    "ax2.set_ylabel('c')\n",
    "ax2.set_title('1D transient diffusion solution')\n",
    "ax2.legend(fontsize=8)\n",
    "\n",
    "\n",
    "def init():\n",
    "    line.set_data([], [])\n",
    "    circ.set_data([], [])\n",
    "    return line, circ\n",
    "\n",
    "def animate(ii):\n",
    "    global x\n",
    "    global ci\n",
    "    global ca\n",
    "    global Nx\n",
    "    # line.set_data(*pyfvm.utilities.get_CellVariable_profile1D(ci[ii]))\n",
    "    line.set_data(x, ci[ii].value[1:Nx+1])    \n",
    "    circ.set_data(x, ca[ii])        \n",
    "    return line, circ\n",
    "\n",
    "anim = FuncAnimation(hfig2, animate, init_func=init,\n",
    "            frames=400, interval=20, blit=True)"
   ]
  },
  {
   "cell_type": "markdown",
   "id": "5b21937d",
   "metadata": {},
   "source": [
    "<a id=\"convection_disc_ID\"></a>\n",
    "### Convection equations; different discretization schemes"
   ]
  },
  {
   "cell_type": "markdown",
   "id": "5b593dab",
   "metadata": {},
   "source": [
    "If I want to highlight one special feature of this FVTool, I will point a finger on its various discretization schemes for a linear convection term, which includes central difference (second order), upwind (first order), and TVD scheme with various flux limiters.\n",
    "\n",
    "Here, we are going to compare the performance of each scheme for solving two PDE's. First, a simple linear transient convection equation with an strange initial condition and later, we solve the well-known Burger's equation.\n"
   ]
  },
  {
   "cell_type": "markdown",
   "id": "7cb00aa3",
   "metadata": {},
   "source": [
    "1) Simple linear transient convection (with a strange initial condition)\n",
    "\n",
    "    $$ \\frac{\\partial \\varphi}{\\partial t} + \\nabla\\cdot\\left(\\vec{u}\\varphi\\right) + \\nabla\\cdot\\left(-D\\nabla\\varphi\\right) = \\vec{0} $$    \n",
    "\n",
    "with periodic boundary conditions on a 1D-domain with constant coefficients $u$=0.3 m/s and $D$=0.01 m$^2$/s.\n",
    "\n",
    "Initial condition:\n",
    "$$\\varphi\\left(x, 0\\right) \\,=\\, \\begin{equation}\n",
    "\\left\\{ \n",
    "  \\begin{aligned}\n",
    "    &0,\\,\\, &0.0 \\le \\,&x<0.04 \\\\\n",
    "    &1\\,\\,  &0.04\\le \\,&x<0.24 \\\\\n",
    "    &0\\,\\,  &0.24\\le \\,&x<0.36 \\\\    \n",
    "    &\\sin\\left(10\\,\\pi\\,x\\right)\\,\\,  &0.36\\le \\,&x<0.8 \\\\        \n",
    "    &0,\\,\\, &0.8 \\le \\,&x\\le1.0 \\\\\n",
    "  \\end{aligned}\n",
    "  \\right.\n",
    "\\end{equation}\n",
    "$$"
   ]
  },
  {
   "cell_type": "code",
   "execution_count": null,
   "id": "094aefaa",
   "metadata": {},
   "outputs": [],
   "source": [
    "# define a 1D domain and mesh\n",
    "W = 1\n",
    "Nx = 500\n",
    "mesh1 = createMesh1D(Nx, W)\n",
    "x = mesh1.cellcenters.x"
   ]
  },
  {
   "cell_type": "code",
   "execution_count": null,
   "id": "95bec6ad",
   "metadata": {},
   "outputs": [],
   "source": [
    "# define periodic boundary conditions\n",
    "BC = createBC(mesh1)  # all Neumann BC's\n",
    "BC.left.periodic = True \n",
    "BC.right.periodic = True"
   ]
  },
  {
   "cell_type": "code",
   "execution_count": null,
   "id": "f7c08b45",
   "metadata": {},
   "outputs": [],
   "source": [
    "# Coefficient matrix and effective source for the periodic boundary condtiions\n",
    "Mbc, RHSbc = pyfvm.boundary.boundaryCondition(BC)   # define the BC term"
   ]
  },
  {
   "cell_type": "code",
   "execution_count": null,
   "id": "ad349153",
   "metadata": {},
   "outputs": [],
   "source": [
    "# Initial values\n",
    "phi_old = createCellVariable(mesh1, 0.0, BC)\n",
    "phi_old.value[19:120] = 1   # (20:120)\n",
    "phi_old.value[179:400] = np.sin(x[179:400]*10*np.pi)  # (180:400)\n",
    "\n",
    "# initial guess for phi\n",
    "phi = phi_old\n",
    "phiuw_old = phi_old\n",
    "\n",
    "# initial values for upwind scheme\n",
    "phiuw = phi\n",
    "\n",
    "# keep the initial values for visualization\n",
    "phiinit = phi_old"
   ]
  },
  {
   "cell_type": "code",
   "execution_count": null,
   "id": "00b8095f",
   "metadata": {},
   "outputs": [],
   "source": [
    "# Define the coefficient terms\n",
    "\n",
    "# velocity field\n",
    "u = 0.3   # m/s\n",
    "uf = createFaceVariable(mesh1, u)\n",
    "\n",
    "# diffusion field\n",
    "D = 1e-2  # m2/s\n",
    "Df = createFaceVariable(mesh1, D)\n",
    "\n",
    "# transient term coefficient\n",
    "alfa = createCellVariable(mesh1,1.0)"
   ]
  },
  {
   "cell_type": "code",
   "execution_count": null,
   "id": "5316ebf7",
   "metadata": {},
   "outputs": [],
   "source": [
    "# Constant coefficient matrices:\n",
    "Mconvuw = convectionUpwindTerm1D(uf)   # upwind convection term"
   ]
  },
  {
   "cell_type": "code",
   "execution_count": null,
   "id": "b159cb0b",
   "metadata": {},
   "outputs": [],
   "source": [
    "# Choose a flux limiter\n",
    "FL = fluxLimiter('Superbee')"
   ]
  },
  {
   "cell_type": "code",
   "execution_count": null,
   "id": "f9071593",
   "metadata": {},
   "outputs": [],
   "source": [
    "# Solver\n",
    "dt = 0.001  # [s], time step\n",
    "final_t = W/u\n",
    "\n",
    "tt = 0\n",
    "count = 0\n",
    "\n",
    "phi_tvd = []\n",
    "phi_uw = []\n",
    "while (tt<final_t) and count < 5e3:\n",
    "    tt += dt\n",
    "    \n",
    "    # inner loop for TVD scheme\n",
    "    for jj in range(5): \n",
    "\n",
    "        Mt, RHSt = transientTerm(phi_old, dt, alfa)\n",
    "        \n",
    "        Mconv, RHSconv = convectionTvdTerm1D(uf, phi, FL)\n",
    "        \n",
    "        # Form the system\n",
    "        M = Mconv + Mt + Mbc\n",
    "        RHS = RHSt + RHSbc + RHSconv\n",
    "        \n",
    "        # Solve the PDE\n",
    "        phi = solvePDE(mesh1, M, RHS)\n",
    "        \n",
    "    # Store the TVD solution for later animation\n",
    "    phi_tvd.append(phi)\n",
    "\n",
    "    # Calculate the tarnsient term for the upwind scheme\n",
    "    Mtuw, RHStuw = transientTerm(phiuw_old, dt, alfa);\n",
    "    \n",
    "    # Form the system of equations\n",
    "    Muw = Mconvuw + Mtuw + Mbc\n",
    "    RHSuw = RHStuw + RHSbc\n",
    "\n",
    "    # Solve the system of equations using the Upwind discretization    \n",
    "    phiuw = solvePDE(mesh1, Muw, RHSuw)\n",
    "    \n",
    "    # store the solution \n",
    "    phiuw_old = phiuw\n",
    "    phi_old = phi\n",
    "    phi_uw.append(phiuw)\n",
    "    \n",
    "    count += 1"
   ]
  },
  {
   "cell_type": "code",
   "execution_count": null,
   "id": "978ac918",
   "metadata": {},
   "outputs": [],
   "source": [
    "# Visualize the problem solution\n",
    "hfig, ax = plt.subplots(1, 1)\n",
    "ax.plot(x, phiinit.value[1:Nx+1], 'b-', label='initial value')\n",
    "ax.plot(x, phi.value[1:Nx+1], 'ro', label='TVD solution')\n",
    "ax.plot(x, phiuw.value[1:Nx+1], '-', color='orange', label='upwind solution')"
   ]
  },
  {
   "cell_type": "code",
   "execution_count": null,
   "id": "7401a4b8",
   "metadata": {},
   "outputs": [],
   "source": [
    "# Plotting and visualization of the 1D transient diffusion solution  \n",
    "from matplotlib.animation import FuncAnimation\n",
    "\n",
    "# phi_tvd, phi_uw\n",
    "\n",
    "hfig1, ax1 = plt.subplots()\n",
    "ax1.plot(x, phi_tvd[0].value[1:Nx+1], 'ro', label='initial TVD value')\n",
    "ax1.plot(x, phi_uw[0].value[1:Nx+1], '-', color='orange', label='initial upwind value')\n",
    "\n",
    "ax1.plot(x, phi_tvd[-1].value[1:Nx+1], 'ro', label='final TVD value')\n",
    "ax1.plot(x, phi_uw[-1].value[1:Nx+1], '-', color='orange' label='final upwind value')\n",
    "\n",
    "ax1.set_xlim((0, W))\n",
    "ax1.set_ylim((-1.25, 1.25))\n",
    "\n",
    "ax1.set_xlabel('x')\n",
    "ax1.set_ylabel('c')\n",
    "ax1.set_title('Transient convection-diffusion')\n",
    "ax1.legend(fontsize=8)\n",
    "\n",
    "# ========= #\n",
    "\n",
    "# create a figure to handle the solution animation\n",
    "#   pre-generate the handles to the axes and the line\n",
    "hfig2 = plt.figure()\n",
    "ax2 = plt.axes(xlim=(0, W), ylim=(-1.25, 1.25))\n",
    "line, = ax2.plot([], [], 'ro', lw=3, label='TVD solution')\n",
    "circ, = ax2.plot([], [], '-', color='orange', lw=3, label='Upwind solution')\n",
    "\n",
    "ax2.set_xlabel('x')\n",
    "ax2.set_ylabel('c')\n",
    "ax2.set_title('1D transient convective-diffusion: Constant coeff.')\n",
    "ax2.legend(fontsize=8)\n",
    "\n",
    "\n",
    "def init():\n",
    "    line.set_data([], [])\n",
    "    circ.set_data([], [])\n",
    "    return line, circ\n",
    "\n",
    "def animate(ii):\n",
    "    global x\n",
    "    global ci\n",
    "    global ca\n",
    "    global Nx\n",
    "\n",
    "    circ.set_data(x, phi_tvd[ii])        \n",
    "    line.set_data(x, phi_uw[ii].value[1:Nx+1])    \n",
    "    return line, circ\n",
    "\n",
    "anim = FuncAnimation(hfig2, animate, init_func=init,\n",
    "            frames=400, interval=20, blit=True)"
   ]
  },
  {
   "cell_type": "code",
   "execution_count": null,
   "id": "72f5065b",
   "metadata": {},
   "outputs": [],
   "source": [
    "## method of lines: using Matlab's ODE solvers for adaptive time stepping\n",
    "#\n",
    "#\n",
    "# ## solving a nonlinear PDE\n",
    "#\n",
    "# ## solving a system of linear PDE's: sequential and coupled methods\n",
    "#\n",
    "# ## solving a system of nonlinear PDE's: sequential and coupled olutions\n",
    "#\n",
    "# ## Real life cases: water-flooding in the production of oil\n",
    "#\n",
    "# ## and finally your examples?\n",
    "#\n",
    "#\n",
    "#"
   ]
  },
  {
   "cell_type": "markdown",
   "id": "0d4e56f8",
   "metadata": {},
   "source": [
    "The generalized form of the equations solved in this package looks like, \n",
    "    $$ \\alpha \\frac{\\partial \\varphi}{\\partial t} + \\nabla\\cdot\\left(\\vec{u}\\varphi\\right) + \\nabla\\cdot\\left(-D\\nabla\\varphi\\right) + \\beta \\varphi = \\gamma $$\n",
    "\n",
    "with boundary condition,\n",
    "    $$ a\\nabla\\varphi\\cdot \\vec{e} + b\\varphi = c $$.\n"
   ]
  },
  {
   "cell_type": "code",
   "execution_count": null,
   "id": "c295763e",
   "metadata": {},
   "outputs": [],
   "source": []
  },
  {
   "cell_type": "code",
   "execution_count": null,
   "id": "5c4b3617",
   "metadata": {},
   "outputs": [],
   "source": []
  },
  {
   "cell_type": "markdown",
   "id": "c0b048b0",
   "metadata": {},
   "source": [
    "## 1D Diffusion with a fixed concentration \n",
    "(Dirichlet left boundary, Neumann right boundary)"
   ]
  },
  {
   "cell_type": "code",
   "execution_count": null,
   "id": "4a815d2b",
   "metadata": {},
   "outputs": [],
   "source": [
    "# %reset -f\n",
    "\n",
    "# import numpy as np\n",
    "# import matplotlib.pyplot as plt\n",
    "# %matplotlib notebook\n",
    "\n",
    "\n",
    "# import pyfvtool as pyfvm\n",
    "# from pyfvtool import *"
   ]
  },
  {
   "cell_type": "code",
   "execution_count": null,
   "id": "e4657359",
   "metadata": {},
   "outputs": [],
   "source": [
    "# Solving a 1D diffusion equation with a fixed concentration \n",
    "# at the left boundary and a closed boundary on the right side\n",
    "Nx = 20 # number of finite volume cells\n",
    "Lx = 1.0 # [m] length of the domain \n",
    "c_left = 1.0 # left boundary concentration\n",
    "c_init = 0.0 # initial concentration\n",
    "D_val = 1e-5 # diffusion coefficient (gas phase)\n",
    "t_simulation = 3600.0 # [s] simulation time\n",
    "dt = 60.0 # [s] time step\n",
    "\n",
    "m1 = createMesh1D(Nx, Lx) # mesh object\n",
    "bc = createBC(m1) # Neumann boundary condition by default\n",
    "\n",
    "# switch the left boundary to Dirichlet: fixed concentration\n",
    "bc.left.a[:] = 0.0\n",
    "bc.left.b[:] = 1.0\n",
    "bc.left.c[:] = c_left\n",
    "\n",
    "# create a cell variable with initial concentration\n",
    "c_old = createCellVariable(m1, c_init, bc)\n",
    "\n",
    "# assign diffusivity to cells\n",
    "D_cell = createCellVariable(m1, D_val)\n",
    "D_face = geometricMean(D_cell) # average value of diffusivity at the interfaces between cells\n",
    "\n",
    "# Discretization\n",
    "Mdiff = diffusionTerm(D_face)\n",
    "Mbc, RHSbc = boundaryConditionTerm(bc)\n",
    "\n",
    "# time loop\n",
    "t = 0\n",
    "while t<t_simulation:\n",
    "    t+=dt\n",
    "    Mt, RHSt = transientTerm(c_old, dt, 1.0)\n",
    "    c_new = solvePDE(m1, Mt-Mdiff+Mbc, RHSbc+RHSt)\n",
    "    c_old.update_value(c_new)\n",
    "\n",
    "visualizeCells(c_old)"
   ]
  },
  {
   "cell_type": "code",
   "execution_count": null,
   "id": "f88a75a4",
   "metadata": {},
   "outputs": [],
   "source": [
    "arithmeticMean([1.0, 2.0])"
   ]
  },
  {
   "cell_type": "code",
   "execution_count": null,
   "id": "3841035e",
   "metadata": {},
   "outputs": [],
   "source": [
    "BC2GhostCells()"
   ]
  },
  {
   "cell_type": "code",
   "execution_count": null,
   "id": "cd7c50b6",
   "metadata": {},
   "outputs": [],
   "source": []
  },
  {
   "cell_type": "markdown",
   "id": "9f4ff729",
   "metadata": {},
   "source": [
    "## Diffusion in 1D cylindrical mesh: \n",
    "Analytic solution to the heat transfer problem + numerical solution with pyfvtool"
   ]
  },
  {
   "cell_type": "code",
   "execution_count": null,
   "id": "96085276",
   "metadata": {},
   "outputs": [],
   "source": [
    "# %reset -f\n",
    "\n",
    "# import numpy as np\n",
    "# import matplotlib.pyplot as plt\n",
    "# %matplotlib notebook\n",
    "\n",
    "\n",
    "# import pyfvtool as pyfvm\n",
    "# from pyfvtool import *"
   ]
  },
  {
   "cell_type": "code",
   "execution_count": null,
   "id": "913f7604",
   "metadata": {},
   "outputs": [],
   "source": [
    "# Solving a 1D diffusion equation with a fixed concentration \n",
    "# at the left boundary and a closed boundary on the right side\n",
    "Nx = 20 # number of finite volume cells\n",
    "Lx = 1.0 # [m] length of the domain \n",
    "c_left = 1.0 # left boundary concentration\n",
    "c_init = 0.0 # initial concentration\n",
    "D_val = 1e-5 # diffusion coefficient (gas phase)\n",
    "t_simulation = 3600.0 # [s] simulation time\n",
    "dt = 60.0 # [s] time step\n",
    "\n",
    "m1 = createMesh1D(Nx, Lx) # mesh object\n",
    "bc = createBC(m1) # Neumann boundary condition by default\n",
    "\n",
    "# switch the left boundary to Dirichlet: fixed concentration\n",
    "bc.left.a[:] = 0.0\n",
    "bc.left.b[:] = 1.0\n",
    "bc.left.c[:] = c_left\n",
    "\n",
    "# create a cell variable with initial concentration\n",
    "c_old = createCellVariable(m1, c_init, bc)\n",
    "\n",
    "# assign diffusivity to cells\n",
    "D_cell = createCellVariable(m1, D_val)\n",
    "D_face = geometricMean(D_cell) # average value of diffusivity at the interfaces between cells\n",
    "\n",
    "# Discretization\n",
    "Mdiff = diffusionTerm(D_face)\n",
    "Mbc, RHSbc = boundaryConditionTerm(bc)\n",
    "\n",
    "# time loop\n",
    "t = 0\n",
    "while t<t_simulation:\n",
    "    t+=dt\n",
    "    Mt, RHSt = transientTerm(c_old, dt, 1.0)\n",
    "    c_new = solvePDE(m1, Mt-Mdiff+Mbc, RHSbc+RHSt)\n",
    "    c_old.update_value(c_new)\n",
    "\n",
    "visualizeCells(c_old)"
   ]
  }
 ],
 "metadata": {
  "kernelspec": {
   "display_name": "env",
   "language": "python",
   "name": "env"
  },
  "language_info": {
   "codemirror_mode": {
    "name": "ipython",
    "version": 3
   },
   "file_extension": ".py",
   "mimetype": "text/x-python",
   "name": "python",
   "nbconvert_exporter": "python",
   "pygments_lexer": "ipython3",
   "version": "3.7.3"
  }
 },
 "nbformat": 4,
 "nbformat_minor": 5
}
