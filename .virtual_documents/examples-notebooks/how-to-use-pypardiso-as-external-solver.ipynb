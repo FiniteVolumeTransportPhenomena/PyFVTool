








import numpy as np
import scipy.sparse as sp
import matplotlib.pyplot as plt
import pypardiso


pypardiso.__version__


A = sp.rand(10, 10, density=0.5, format='csr')


b = np.random.rand(10)


x = pypardiso.spsolve(A, b)


# do not output result for now.
# x





# enable access to parent directory in order to access pyfvtool module (without pip installation)
from sys import path
path.append('..')

from time import time
import pyfvtool as pf





# visualization routine (imshow-based)
def phi_visualize():
    print(f't = {t:.1f} s')
    # avoid ghost cells
    plt.imshow(phi.internalCells(), origin = 'lower',
               extent = [zz[0], zz[-1], rr[0]*rzoom, rr[-1]*rzoom])


# calculate simple finite-volume integral over r
def integral_dr(phi0):
    v = pf.cellVolume(phi0.domain).internalCells()
    c = phi0.internalCells()
    return (v*c).sum(axis=0)





Lr = 7.5e-05 # [m] radius of cylinder
Lz = 0.3 # [m] length of cylinder
umax = 2*9.4314e-3 # [m s^-1] max flow velocity = 2 time average flow velocity


# regular grid parameters
Nr = 40
Nz = 500


# initial condition parameters (cell indices)
loadix0 = 20
loadix1 = 40


# timestep parameters
deltat = 0.01 # [s] per time step


# visualization parameters
rzoom = 1000


# SOLVER

## provide scipy.sparse.linalg.spsolve as "external" solver
# solveur = sp.linalg.spsolve 

## incompatibility of pypardiso and standard spsolve
## the following doesn't work
# solveur = pypardiso.spsolve

## quick fix, converting the csr_array to csr_matrix
## as required by pypardiso.spsolve
## TODO: open an issue in pypardiso project
##       asking for support for csr_array in pypardiso
def solveur(A, b):
    Amat = sp.csr_matrix(A) # extra matrix conversion operation
    return pypardiso.spsolve(Amat, b)





msh = pf.createMeshCylindrical2D(Nr, Nz, Lr, Lz)





rr = msh.cellcenters.x
zz = msh.facecenters.y


uu =  umax*(1 - (rr**2)/(Lr**2)) # does not depend on zz


u =  pf.createFaceVariable(msh, 1.0)


u.xvalue[:] = 0
u.yvalue[:] = uu[:, np.newaxis]





bc = pf.createBC(msh)


phi = pf.createCellVariable(msh, 0.0 , bc)





t=0.


# initial condition
for i in range(loadix0, loadix1):
    phi.value[:, i] = 1.0


phi_visualize()


initInt = pf.domainInt(phi)
# print(initInt)


phiprofs = []
phiprofs.append((t, integral_dr(phi)))





# Mconv = pf.convectionTerm(u) # really ugly?
Mconv = pf.convectionUpwindTerm(u) # numerical diffusion


Mbc, RHSbc = pf.boundaryConditionTerm(bc)





exect0 = time()


def do_time_steps(Nsteps):
    global t
    for i in range(Nsteps):
        # create time-dependent matrix contributions (transientTerm)
        M_trans, RHS_trans = pf.transientTerm(phi, deltat, 1.0)
        M = M_trans + Mbc + Mconv
        RHS = RHS_trans + RHSbc
        phi_new = pf.solvePDE(msh, M, RHS,
                              externalsolver = solveur)
        phi.update_value(phi_new)
        t += deltat


do_time_steps(200)
phiprofs.append((t, integral_dr(phi)))


# print(t, initInt, pf.domainInt(phi))
# test conservation of mass
assert np.isclose(initInt, pf.domainInt(phi))


phi_visualize()


do_time_steps(300)
phiprofs.append((t, integral_dr(phi)))


do_time_steps(500)
phiprofs.append((t, integral_dr(phi)))


print(t, initInt, pf.domainInt(phi))


phi_visualize()


for ix, (tprof, phiprof) in enumerate(phiprofs):
    if ix == 2:
        lbl1 = 'FVM'
    else:
        lbl1 = None
    plt.plot(phi.domain.cellcenters.y, phiprof, 
             label=lbl1)
plt.xlabel('z / m')
plt.legend();


exect1 = time()


# print('Elapsed time ', exect1 - exect0, 's')


# Execution time benchmark results 
#    - Werts' computer (in 'best performance' power management mode)
#
# Elapsed time  2.36826229095459  s (pypardiso.spsolve via solveur function)
# Elapsed time  5.680087327957153 s (scipy.sparse.linalg.spsolve SuperLU)



