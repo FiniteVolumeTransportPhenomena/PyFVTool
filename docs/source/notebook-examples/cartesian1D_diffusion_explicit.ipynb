{
 "cells": [
  {
   "cell_type": "code",
   "execution_count": 1,
   "id": "4a3127ba-1804-41e0-9214-199195027f23",
   "metadata": {},
   "outputs": [],
   "source": [
    "# Solve 1D diffusion with the explicit solver\n",
    "#\n",
    "# A tutorial example adapted from the FiPy 1D diffusion example\n",
    "# see: http://www.ctcms.nist.gov/fipy/examples/diffusion/index.html"
   ]
  },
  {
   "cell_type": "code",
   "execution_count": 2,
   "id": "eb280c09-a91f-4433-8f6d-1254aefb57bf",
   "metadata": {},
   "outputs": [],
   "source": [
    "import pyfvtool as pf\n",
    "import matplotlib.pyplot as plt\n",
    "import numpy as np\n",
    "from scipy.special import erf"
   ]
  },
  {
   "cell_type": "code",
   "execution_count": 3,
   "id": "97430bc0-7240-472f-a8db-7494b2c7fb04",
   "metadata": {},
   "outputs": [],
   "source": [
    "# define the domain\n",
    "L = 5.0  # domain length\n",
    "Nx = 100 # number of cells"
   ]
  },
  {
   "cell_type": "code",
   "execution_count": 4,
   "id": "0ecbec02-e1dd-4012-8bca-0bfda3ac0bb6",
   "metadata": {},
   "outputs": [],
   "source": [
    "meshstruct = pf.Grid1D(Nx, L)"
   ]
  },
  {
   "cell_type": "code",
   "execution_count": 5,
   "id": "81face1d-06c0-4170-80f2-765ee4659f7b",
   "metadata": {},
   "outputs": [],
   "source": [
    "BC = pf.BoundaryConditions(meshstruct) # all Neumann boundary condition structure\n",
    "BC.left.a[:] = 0 \n",
    "BC.left.b[:]=1 \n",
    "BC.left.c[:]=1 # left boundary\n",
    "BC.right.a[:] = 0 \n",
    "BC.right.b[:]=1 \n",
    "BC.right.c[:]=0 # right boundary"
   ]
  },
  {
   "cell_type": "code",
   "execution_count": 6,
   "id": "664b1c8f-c769-4312-a034-80eb2c6b8d0a",
   "metadata": {},
   "outputs": [],
   "source": [
    "x = meshstruct.cellcenters.x"
   ]
  },
  {
   "cell_type": "code",
   "execution_count": 7,
   "id": "d201db49-956f-4778-9294-d321976e29e7",
   "metadata": {},
   "outputs": [],
   "source": [
    "## define the transfer coeffs\n",
    "D_val = 1.0\n",
    "alfa = pf.CellVariable(meshstruct, 1)\n",
    "Dave = pf.FaceVariable(meshstruct, D_val)"
   ]
  },
  {
   "cell_type": "code",
   "execution_count": 8,
   "id": "38b12682-bf11-4843-87c9-8883bda4b1de",
   "metadata": {},
   "outputs": [],
   "source": [
    "## define initial values\n",
    "c_old = pf.CellVariable(meshstruct, 0, BC) # initial values\n",
    "c = pf.CellVariable(meshstruct, 0, BC) # working values"
   ]
  },
  {
   "cell_type": "code",
   "execution_count": 9,
   "id": "1b4c90ca-68ea-46c3-abbf-9488701b0f0d",
   "metadata": {},
   "outputs": [],
   "source": [
    "## loop\n",
    "dt = 0.001 # time step\n",
    "final_t = 0.5\n",
    "for t in np.arange(dt, final_t, dt):\n",
    "    # step 1: calculate divergence term\n",
    "    RHS = pf.divergenceTerm(Dave*pf.gradientTerm(c_old))\n",
    "    # step 2: calculate the new value for internal cells\n",
    "    c = pf.solveExplicitPDE(c_old, dt, RHS)\n",
    "    c_old.update_value(c)"
   ]
  },
  {
   "cell_type": "code",
   "execution_count": 10,
   "id": "3aaaa61d-398e-4c71-87b5-3fab3c243f1b",
   "metadata": {},
   "outputs": [],
   "source": [
    "# analytic solution\n",
    "c_analytic = 1-erf(x/(2*np.sqrt(D_val*t)))\n"
   ]
  },
  {
   "cell_type": "code",
   "execution_count": 11,
   "id": "06e4c664-37b2-41a7-88cb-ddc12fa106cc",
   "metadata": {},
   "outputs": [
    {
     "data": {
      "image/png": "[encoded data removed]",
      "text/plain": [
       "<Figure size 640x480 with 1 Axes>"
      ]
     },
     "metadata": {},
     "output_type": "display_data"
    }
   ],
   "source": [
    "plt.figure(1)\n",
    "plt.clf()\n",
    "plt.plot(x, c.value, 'k', label = 'PyFVTool (explicit)')\n",
    "plt.plot(x, c_analytic, 'r--', label = 'analytic')\n",
    "plt.legend()\n",
    "plt.show()"
   ]
  },
  {
   "cell_type": "code",
   "execution_count": 12,
   "id": "a50df9ef-cd85-49fc-91b0-7dbc24e40fba",
   "metadata": {},
   "outputs": [],
   "source": [
    "# Now, solve the same problem in a 2D cylindrical system (a rod) \n",
    "#\n",
    "# compare to the 1D analytic solution (along line near the center of the rod)"
   ]
  },
  {
   "cell_type": "code",
   "execution_count": 13,
   "id": "1419383e-99bd-4090-9f9f-0f999c099c05",
   "metadata": {},
   "outputs": [],
   "source": [
    "# define the domain\n",
    "L = 5.0  # domain length\n",
    "N = 100 # number of cells"
   ]
  },
  {
   "cell_type": "code",
   "execution_count": 14,
   "id": "3960abd8-428f-41b5-9739-394b8a7e9902",
   "metadata": {},
   "outputs": [],
   "source": [
    "meshstruct = pf.CylindricalGrid2D(N, N, L, L)"
   ]
  },
  {
   "cell_type": "code",
   "execution_count": 15,
   "id": "2548114d-1559-45f4-a2d1-93ec1f4e8f08",
   "metadata": {},
   "outputs": [],
   "source": [
    "BC = pf.BoundaryConditions(meshstruct) # all Neumann boundary condition structure\n",
    "BC.bottom.a[:] = 0.0 \n",
    "BC.bottom.b[:] = 1.0 \n",
    "BC.bottom.c[:] = 1.0 # bottom boundary\n",
    "BC.top.a[:] = 0.0 \n",
    "BC.top.b[:] = 1.0 \n",
    "BC.top.c[:] = 0.0 # top boundary"
   ]
  },
  {
   "cell_type": "code",
   "execution_count": 16,
   "id": "5296df4c-f1aa-4091-81fe-fbd42587a0c6",
   "metadata": {},
   "outputs": [],
   "source": [
    "r = meshstruct.cellcenters.r"
   ]
  },
  {
   "cell_type": "code",
   "execution_count": 17,
   "id": "df0db336-95af-4caa-932e-a8d4cad9f0d5",
   "metadata": {},
   "outputs": [],
   "source": [
    "## define the transfer coeffs\n",
    "D_val = 1.0\n",
    "alfa = pf.CellVariable(meshstruct, 1.0)\n",
    "Dave = pf.FaceVariable(meshstruct, D_val)"
   ]
  },
  {
   "cell_type": "code",
   "execution_count": 18,
   "id": "a7b41cf5-ddcc-454a-991e-7c80d7ff7ae4",
   "metadata": {},
   "outputs": [],
   "source": [
    "## define initial values\n",
    "c_old = pf.CellVariable(meshstruct, 0.0, BC) # initial values\n",
    "c = pf.CellVariable(meshstruct, 0.0, BC) # working values"
   ]
  },
  {
   "cell_type": "code",
   "execution_count": 19,
   "id": "5da03b92-7083-4f5e-b3f7-ac85e2838795",
   "metadata": {},
   "outputs": [],
   "source": [
    "## loop\n",
    "dt = 0.001 # time step\n",
    "final_t = 100*dt\n",
    "for t in np.arange(dt, final_t, dt):\n",
    "    # step 1: calculate divergence term\n",
    "    RHS = pf.divergenceTerm(Dave*pf.gradientTerm(c_old))\n",
    "    # step 2: calculate the new value for internal cells\n",
    "    c = pf.solveExplicitPDE(c_old, dt, RHS)\n",
    "    c_old.update_value(c)"
   ]
  },
  {
   "cell_type": "code",
   "execution_count": 20,
   "id": "935d74b7-370b-485a-a3fc-f98aa29a4564",
   "metadata": {},
   "outputs": [
    {
     "data": {
      "image/png": "[encoded data removed]",
      "text/plain": [
       "<Figure size 640x480 with 1 Axes>"
      ]
     },
     "metadata": {},
     "output_type": "display_data"
    }
   ],
   "source": [
    "plt.figure(2)\n",
    "plt.clf()\n",
    "plt.plot(r, c.value[1,:], 'k', label='PyFVTool Cyl2D')\n",
    "plt.plot(r, c_analytic, 'r--', label='analytic 1D')\n",
    "plt.legend()\n",
    "plt.show()"
   ]
  },
  {
   "cell_type": "code",
   "execution_count": null,
   "id": "01d1a4a4-ca37-4f95-a543-3d5c3dd7366d",
   "metadata": {},
   "outputs": [],
   "source": []
  }
 ],
 "metadata": {
  "kernelspec": {
   "display_name": "Python 3 (ipykernel)",
   "language": "python",
   "name": "python3"
  },
  "language_info": {
   "codemirror_mode": {
    "name": "ipython",
    "version": 3
   },
   "file_extension": ".py",
   "mimetype": "text/x-python",
   "name": "python",
   "nbconvert_exporter": "python",
   "pygments_lexer": "ipython3",
   "version": "3.12.9"
  }
 },
 "nbformat": 4,
 "nbformat_minor": 5
}
