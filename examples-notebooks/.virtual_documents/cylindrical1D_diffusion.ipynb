


import numpy as np
from numpy import exp
from scipy.special import jn_zeros, j0, j1
import matplotlib.pyplot as plt


# enable access to parent directory in order to access pyfvtool module (without pip installation)
from sys import path
path.append('..')


# explicity import all required routines from pyfvtool
from pyfvtool import createMeshCylindrical1D, createBC
from pyfvtool import createCellVariable
from pyfvtool import transientTerm, diffusionTerm
from pyfvtool import harmonicMean, boundaryConditionTerm
from pyfvtool import solvePDE
from pyfvtool import get_CellVariable_profile1D








def crank522(r, t, a, D):
    '''evaluate eqn 5.22 for a given r,t
    a : radius of cylinder
    D : diffusion coefficient
    
    the following global variables need to be set

    Nterm_crank : number of terms to be evaluated
    '''
    global Nterm_crank
    
    aalp = jn_zeros(0, Nterm_crank)
    alpha = aalp/a
    
    XJ0 = exp(-D * alpha**2 * t) * j0(r*alpha)
    AJ1 = alpha * j1(aalp)
    
    S = np.sum(XJ0/AJ1)
    
    return 1.0 - (2.0/a) * S


# set world parameters
a_val = 2.9
D_val = 1.9
Nterm_crank = 30


# create radial axis for plotting analytic solution
r_an = np.linspace(0.,a_val,200)


# evaluate crank522 at different points in time, and plot
for t in [0.005, 0.01, 0.02, 0.03, 0.04, 0.06, 0.08, 0.1, 0.15,
          0.2, 0.3, 0.4, 0.6, 0.8]:
    c = np.array([crank522(rr, t, a_val, D_val) for rr in r_an])
    plt.plot(r_an, c)
plt.xlabel('rel. radial position')
plt.ylabel('rel. temperature')
plt.title('analytic solution')
plt.show()








Nr = 50
Lr = a_val
c_outer = 1.0 # (outer) boundary concentration
c0 = 0.0
deltat = 0.001


mesh = createMeshCylindrical1D(Nr, Lr)





bc = createBC(mesh)


# switch the right (=outer) boundary to Dirichlet: fixed concentration
bc.right.a[:] = 0.0
bc.right.b[:] = 1.0
bc.right.c[:] = c_outer


c = createCellVariable(mesh, c0, bc)


D = createCellVariable(mesh, D_val) # diffusion coefficient
alfa = createCellVariable(mesh, 1.0) # transientterm coefficient


t = 0.0





r_an = np.linspace(0., a_val,200) # axis for plotting analytic solution

sample_i = [5,10,20,30,40,60,80,100,150,200,300,400,600,800]

for i in range(0,1001):
    if i in sample_i:
        r, phi = get_CellVariable_profile1D(c)
        plt.plot(r, phi)
        c_an = np.array([crank522(rr,t,a_val,D_val) for rr in r_an])
        plt.plot(r_an,c_an, 'k:')
    M_trans, RHS_trans = transientTerm(c, deltat, alfa)
    Dave = harmonicMean(D)
    Mdiff = diffusionTerm(Dave)
    Mbc, RHSbc = boundaryConditionTerm(bc)
    M = M_trans - Mdiff + Mbc
    RHS = RHS_trans + RHSbc
    c = solvePDE(mesh, M, RHS)
    t += deltat
    c_old = c
plt.xlabel('radial position $r$')
plt.ylabel('rel. temperature $T$')
plt.title('FVM (PyFVTool) solution. Dotted line = analytic');





r_num, phi_num = get_CellVariable_profile1D(c)
phi_an_r_num = np.array([crank522(rr, t, a_val, D_val) for rr in r_num])
norm_err = (phi_num - phi_an_r_num)/phi_an_r_num.max()
plt.plot(r_num, norm_err, 'o')
plt.xlabel('radial position $r$')
plt.ylabel('norm. error FV vs analytic');


# This assert will help `pytest` detect calculation errors introduced with code changes
# It is also a basic benchmark test for correct function of PyFVTool
assert np.alltrue(np.abs(norm_err) < 0.0005)
