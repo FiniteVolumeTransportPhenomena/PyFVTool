








import numpy as np
from typing import Any
from numpy.typing import NDArray # type hints need numpy >= 1.21


import matplotlib.pyplot as plt


# enable access to parent directory in order to access pyfvtool module (without pip installation)
from sys import path
path.append('..')

import pyfvtool as pf


# visualization routine (imshow-based)
def phi_visualize():
    print(f't = {t:.1f} s')
    # avoid ghost cells
    plt.imshow(phi.internalCells(), origin = 'lower',
               extent = [zz[0], zz[-1], rr[0]*rzoom, rr[-1]*rzoom])


# calculate simple finite-volume integral over r
def integral_dr(phi0):
    v = pf.cellVolume(phi0.domain).internalCells()
    c = phi0.internalCells()
    return (v*c).sum(axis=0)





# analytic expression from Taylor 1953
def TaylorA3(x: float, t: float, 
             X: float, C_0: float, u_0: float) -> float:
    assert (t >= X/u_0), 't < X/u_0 not implemented'
    if (x >= 0) and (x < X):
        C_m = C_0 * x/(u_0*t)
    elif (x >= X) and (x < u_0*t):
        C_m = C_0 * X/(u_0*t)
    elif (x >= u_0*t) and (x < u_0*t + X):
        C_m = C_0*((X + u_0*t - x)/(u_0*t))
    else:
        C_m = 0.0
    return C_m
           
def TaylorA3_vec(xvec: NDArray[(Any,)], t: float, 
                  X: float, C_0: float, u_0: float) -> NDArray[(Any,)]:
    C_m_vec = np.zeros_like(xvec)
    for ix, x in enumerate(xvec):
        C_m_vec[ix] = TaylorA3(x, t, X, C_0, u_0)
    return C_m_vec  








Lr = 7.5e-05 # [m] radius of cylinder
Lz = 0.3 # [m] length of cylinder
umax = 2*9.4314e-3 # [m s^-1] max flow velocity = 2 time average flow velocity


# regular grid parameters
Nr = 40
Nz = 500


# initial condition parameters (cell indices)
loadix0 = 20
loadix1 = 40


# timestep parameters
deltat = 0.01 # [s] per time step


# visualization parameters
rzoom = 1000








msh = pf.createMeshCylindrical2D(Nr, Nz, Lr, Lz)





rr = msh.cellcenters.x
zz = msh.facecenters.y


uu =  umax*(1 - (rr**2)/(Lr**2)) # does not depend on zz


u =  pf.createFaceVariable(msh, 1.0)


u.xvalue[:] = 0
u.yvalue[:] = uu[:, np.newaxis]


for i in [1, 10, -1]:
    plt.plot(rr*1e6, u.yvalue[:, i])
plt.xlabel('$r$ / µm') 
plt.ylabel('$u_z(r)$ / m s$^{-1}$');





bc = pf.createBC(msh)


phi = pf.createCellVariable(msh, 0.0 , bc)





t=0.


# initial condition
for i in range(loadix0, loadix1):
    phi.value[:, i] = 1.0


phi_visualize()


initInt = pf.domainInt(phi)
print(initInt)


phiprofs = []
phiprofs.append((t, integral_dr(phi)))





# Mconv = pf.convectionTerm(u) # really ugly?
Mconv = pf.convectionUpwindTerm(u) # numerical diffusion


Mbc, RHSbc = pf.boundaryConditionTerm(bc)





for i in range(200):
    # create time-dependent matrix contributions (transientTerm)
    M_trans, RHS_trans = pf.transientTerm(phi, deltat, 1.0)
    M = M_trans + Mbc + Mconv
    RHS = RHS_trans + RHSbc
    phi_new = pf.solvePDE(msh, M, RHS)
    phi.update_value(phi_new)
    t += deltat
phiprofs.append((t, integral_dr(phi)))


print(t, initInt, pf.domainInt(phi), pf.domainInt(phi_new))


phi_visualize()


for i in range(300):
    # create time-dependent matrix contributions (transientTerm)
    M_trans, RHS_trans = pf.transientTerm(phi, deltat, 1.0)
    M = M_trans + Mbc + Mconv
    RHS = RHS_trans + RHSbc
    phi_new = pf.solvePDE(msh, M, RHS)
    phi.update_value(phi_new)
    t += deltat
phiprofs.append((t, integral_dr(phi)))


for i in range(500):
    # create time-dependent matrix contributions (transientTerm)
    M_trans, RHS_trans = pf.transientTerm(phi, deltat, 1.0)
    M = M_trans + Mbc + Mconv
    RHS = RHS_trans + RHSbc
    phi_new = pf.solvePDE(msh, M, RHS)
    phi.update_value(phi_new)
    t += deltat
phiprofs.append((t, integral_dr(phi)))


print(t, initInt, pf.domainInt(phi), pf.domainInt(phi_new))


phi_visualize()





DX = phi.domain.facecenters.y[loadix0]
X = phi.domain.facecenters.y[loadix1] - DX
C_0 = phiprofs[0][1][(loadix0+loadix1)//2] # slot#0 contains initial condition


zzz = np.linspace(0, Lz, 500)


for ix, (tprof, phiprof) in enumerate(phiprofs):
    if ix == 2:
        lbl1 = 'FVM'
        lbl2 = 'analytic'
    else:
        lbl1 = None
        lbl2 = None
    plt.plot(phi.domain.cellcenters.y, phiprof, 
             label=lbl1)
    if tprof >= X/umax:
        plt.plot(zzz, TaylorA3_vec(zzz-DX, tprof, X, C_0, umax),
                 'k:', label=lbl2)
plt.xlabel('z / m')
plt.legend();








(tprof, phiprof) = phiprofs[-1]
z_num, c_num = phi.domain.cellcenters.y, phiprof
c_an_z_num = TaylorA3_vec(z_num-DX, tprof, X, C_0, umax)
norm_err = (c_an_z_num - c_num)/c_an_z_num.max()


plt.plot(z_num, norm_err)
plt.ylabel('norm. error')
plt.xlabel('$z$ / m');
plt.ylim(-0.01,0.01)


# very basic benchmark for testing integrity of Notebook and calculations
# checks if the normalized error is below a certain threshold (0.15% of max)
# over a range of z (between 1/3 and 1/2 of full scale)
assert np.alltrue(np.abs(norm_err[Nz//3:Nz//2]) < 0.0015), 'benchmark test failed in cylindrical2D_convection'



