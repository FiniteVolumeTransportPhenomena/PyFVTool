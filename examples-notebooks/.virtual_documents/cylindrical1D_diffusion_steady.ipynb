


import numpy as np
from numpy import exp
import matplotlib.pyplot as plt


# enable access to parent directory in order to access pyfvtool module (without pip installation)
from sys import path
path.append('..')


# explicity import all required routines from pyfvtool
from pyfvtool import createMeshCylindrical1D, createBC
from pyfvtool import createCellVariable
from pyfvtool import transientTerm, diffusionTerm
from pyfvtool import harmonicMean, boundaryConditionTerm
from pyfvtool import constantSourceTerm
from pyfvtool import solvePDE
from pyfvtool import get_CellVariable_profile1D








R = 2.1
k_val = 3.7 # heat transfer coefficient
S_val = 4.2 # source strength
T_outer = 0.0  # (outer) boundary temperature








Nr = 50
Lr = R


mesh = createMeshCylindrical1D(Nr, Lr)





k = createCellVariable(mesh, k_val) # heat transfer coefficient


S = createCellVariable(mesh, S_val)





bc = createBC(mesh)


# switch the right (=outer) boundary to Dirichlet: fixed temperature
bc.right.a[:] = 0.0
bc.right.b[:] = 1.0
bc.right.c[:] = T_outer





# the diffusion term requires the face values
k_face = harmonicMean(k)
Mdiff = diffusionTerm(k_face)


Mbc, RHSbc = boundaryConditionTerm(bc)


RHSsrc = constantSourceTerm(S)


M = -Mdiff + Mbc
RHS = RHSsrc + RHSbc





T = solvePDE(mesh, M, RHS)





rnum, Tnum = get_CellVariable_profile1D(T)





r_an = np.linspace(0, R)
T_an = (S_val/(4*k_val))*(R**2 - r_an**2)


plt.plot(rnum, Tnum, 'ro', label='FVM')
plt.plot(r_an, T_an, 'k', label='analytic')
plt.ylabel('rel. temp. $T$')
plt.xlabel('radial position $r$')
plt.legend(); # semicolon avoids output of '<matplotlib.legend.Legend...>' descriptor





# analytic solution evaluated at cell positions
T_an_rnum = (S_val/(4*k_val))*(R**2 - rnum**2)


# normalized error
norm_err = (Tnum-T_an_rnum)/T_an_rnum.max() 


plt.plot(rnum, norm_err, 'o')
plt.ylabel('error relative to maximum $T$')
plt.xlabel('radial position $r$');


print(np.abs(norm_err) < 0.0001)


assert np.alltrue(np.abs(norm_err) < 0.001)
