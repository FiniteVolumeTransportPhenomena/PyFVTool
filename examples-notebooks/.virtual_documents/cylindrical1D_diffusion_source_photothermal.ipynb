














import numpy as np
from numpy import pi, exp
from scipy.special import expi
from scipy.integrate import quad
import matplotlib.pyplot as plt





def S(r, P, w):
  return (2*P)/(pi*w**2) * exp(-2*r**2/w**2)





P = 1.0e-3 # 1 mW
w = 50e-6 # 50 µm waist
k = 0.598 # W/(m.K)
rho = 998.23 # kg/m3
cp = 4184. # J/(K.kg)





t_c = (w**2*cp*rho)/(4*k)


print(f't_c = {t_c*1000.:.3f} ms')





rrx = np.linspace(0, w*5, 500)
plt.plot(rrx, S(rrx, P, w))
plt.ylabel('irradiance [W/m2]')
plt.xlabel('radial position [m]'); # semicolon to avoid print text object descriptor to output 





def DeltaT_Carter(r, t, P, w, k, t_c):
    """
    Carter1984 expression
    """
    alpha = 1.0 # for now. TODO
    A = 1/(4*pi*k)
    B = P*alpha
    C = expi(-2*r**2/w**2) - expi(((-1/(1 + 2*t/t_c)) * (2*r**2/w**2)))
    return A*B*C





def tlintgd(ti, tc, r2w2):
    """
    integrand for photothermal heat profile analytic solution
    
    ti : float
    t' in the formula (integration variable)
    tc : float
         t_c as specified in formula t_c=(w**2*c*rho)/(4*k)
    r2w2 : float
           r2w2 = r**2/w**2 (to avoid recalculation)

    more optimisation may be possible (2/tc factor) but wait for now
    """
    A = (1.0/(1.0 + (2*ti/tc)))
    B = exp((-2*r2w2)/(1.0 + (2*ti/tc)))
    return A*B

def _DeltaT_Sheldon(r, t, P, w, k, cp, rho, tc):
    """
    Sheldon1982 expression (scalar only)
    """
    alpha = 1.0 # for now. TODO
    A = (2*P*alpha)/(pi*cp*rho*w**2)
    r2w2 = r**2 / w**2
    C,_ = quad(tlintgd, 0.0, t, args = (tc, r2w2))
    return A*C

def DeltaT_Sheldon(r, t, P, w, k, cp, rho, tc):
    """
    Sheldon1982 expression (scalar/vector)
    """
    if type(r)==np.ndarray:
        result = np.array([_DeltaT_Sheldon(rrr, t, P, w, k, cp, rho, t_c)\
                           for rrr in r])
    else:
        result = _DeltaT_Sheldon(r, t, P, w, k, cp, rho, t_c)
    return result






rr1 = np.linspace(1e-8, w*10, 500) # not starting at zero
rr0 = np.linspace(0, w*10, 500)   # starting at zero (Sheldon expression works here, Carter not)


t = 0.1
plt.plot(rr1, DeltaT_Carter(rr1, t, P, w, k, t_c),
         'r-', label='Carter1984 (expon. integ.)')
plt.plot(rr0, DeltaT_Sheldon(rr0, t, P, w, k, cp, rho, t_c),
         'k:', label='Sheldon1982 (simple integ.)')
plt.xlabel('radial position / m')
plt.ylabel('temp. change / K')
plt.legend();





# enable access to parent directory in order to access pyfvtool module (without pip installation)
from sys import path
path.append('..')


# explicity import all required routines from pyfvtool
from pyfvtool import createMeshCylindrical1D, createBC
from pyfvtool import createCellVariable
from pyfvtool import transientTerm, diffusionTerm
from pyfvtool import harmonicMean, boundaryConditionTerm
from pyfvtool import constantSourceTerm
from pyfvtool import solvePDE
from pyfvtool import get_CellVariable_profile1D





# set FVM-specific parameters
Nr = 100 # number of FV cells
Lr = 10.0*w # width of domain (for now, simply evenly spaced. TODO: improve meshing)
T0 = 0. # initial rel. temperature
deltat = 0.001 # FVM time step


# TODO: more attention to alpha (see previously)
# for now, set to 1.0
alpha = 1.0


# create grid
mesh = createMeshCylindrical1D(Nr, Lr)


bc = createBC(mesh)
fv_T = createCellVariable(mesh, T0, bc)


dotqval = alpha*S(mesh.cellcenters.x, P, w)
fv_dotq = createCellVariable(mesh, dotqval)


fv_k_cell = createCellVariable(mesh, k)
fv_k_face = harmonicMean(fv_k_cell)


fv_transcoeff =  createCellVariable(mesh, cp*rho)


# create constant matrix contributions 
# (diffusion term, source term, boundary condition)
Mdiff = diffusionTerm(fv_k_face)
Mbc, RHSbc = boundaryConditionTerm(bc)
RHSsrc = constantSourceTerm(fv_dotq)


t = 0.
fv_T.value[:] = T0 # reset

rr0 = np.linspace(0, w*10, 500)
sample_i = [0, 1, 2, 5, 10, 20, 50, 100]
OKlegend = False
for i in range(0,101):
    if i in sample_i:
        r, phi = get_CellVariable_profile1D(fv_T)
        ln0, = plt.plot(r, phi)
        ln1, = plt.plot(rr0, DeltaT_Sheldon(rr0, i*deltat, P, w, k, cp, rho, t_c), 'k:')
        if not OKlegend:
            OKlegend = True
            ln0.set_label('FVM')
            ln1.set_label('analytic')
    # create time-dependent matrix contributions (transientTerm)
    M_trans, RHS_trans = transientTerm(fv_T, deltat, fv_transcoeff)
    # assemble matrix equation
    M = M_trans - Mdiff + Mbc
    RHS = RHS_trans + RHSbc + RHSsrc
    # solve and update
    fv_T_new = solvePDE(mesh, M, RHS)
    fv_T.update_value(fv_T_new)
    t += deltat
if OKlegend:
    plt.legend()
plt.xlabel('radial position / m')
plt.ylabel('temp. change / K');





# take last calculated time `t`
r_num, phi_num = get_CellVariable_profile1D(fv_T)
phi_an_r_num = DeltaT_Sheldon(r_num, t, P, w, k, cp, rho, t_c)
norm_err = (phi_num - phi_an_r_num)/phi_an_r_num.max()
plt.plot(r_num, norm_err, 'o')
plt.xlabel('radial position / m')
plt.ylabel('norm. error FV vs analytic');


assert np.alltrue(np.abs(norm_err) < 0.0025)
