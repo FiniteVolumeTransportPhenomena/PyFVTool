{
 "cells": [
  {
   "cell_type": "markdown",
   "id": "6ec88f25",
   "metadata": {},
   "source": [
    "### Poisson equation example\n",
    "\n",
    "The generalized form of the equations solved in this package looks like, \n",
    "    $$ \\alpha \\frac{\\partial \\varphi}{\\partial t} + \\nabla\\cdot\\left(\\vec{u}\\varphi\\right) + \\nabla\\cdot\\left(-D\\nabla\\varphi\\right) + \\beta \\varphi = \\gamma $$\n",
    "\n",
    "with boundary condition,\n",
    "    $$ a\\nabla\\varphi\\cdot \\vec{e} + b\\varphi = c $$.\n",
    "\n",
    "\n",
    "The inhomogeneous Poisson equation\n",
    "    $$ \\nabla^2 \\varphi + s\\left(\\vec{x}\\right) = 0 $$\n",
    "\n",
    "can be generalized to a simple 1D case,\n",
    "\n",
    "\\begin{align}\n",
    "    \\frac{\\partial^2 \\varphi}{\\partial ^2 x}  + s\\left(x\\right) &= 0 \\\\\n",
    "    \\varphi\\left(x_L\\right) &= 0 \\\\\n",
    "    \\frac{\\partial \\varphi}{\\partial x}|_{x_R} &= 0\n",
    "\\end{align}    \n",
    "\n",
    "The corresponding equation in our form has \n",
    "\\begin{align}\n",
    "    D = 1.0, \\vec{u} &= \\vec{0}  \\\\\n",
    "    \\alpha = 0, \\beta = 0, \\gamma &= s  \\\\\n",
    "    a_L = 0, b_L = 1, c_L &= 0 \\\\\n",
    "    a_R = 1, b_R = 0, c_R &= 0 \\\\    \n",
    "\\end{align}\n",
    "\n",
    "see this link\n",
    "http://scicomp.stackexchange.com/questions/8577/peculiar-error-when-solving-the-poisson-equation-on-a-non-uniform-mesh-1d-only\n",
    "\n",
    "Strange behavior when change the number of grids from even to odd\n",
    "Wrong results does not always mean that the code has bugs.\n",
    "\n",
    "Wrong use of the code can also give you wrong results\n",
    "\n",
    " Written by Ali A. Eftekhari\n",
    " Last checked: June 2021\n",
    " \n",
    " Ported to python and full rewrite by Gavin M. Weir June, 2023\n"
   ]
  },
  {
   "cell_type": "code",
   "execution_count": null,
   "id": "a57b83ab",
   "metadata": {},
   "outputs": [],
   "source": [
    "# Enable interactive plotting\n",
    "%matplotlib notebook   \n",
    "\n",
    "import numpy as np\n",
    "import matplotlib.pyplot as plt"
   ]
  },
  {
   "cell_type": "code",
   "execution_count": null,
   "id": "f43c27c6",
   "metadata": {},
   "outputs": [],
   "source": [
    "from pyfvtool.mesh import createMesh1D\n",
    "from pyfvtool.cell import cellLocations, createCellVariable\n",
    "from pyfvtool.face import faceLocations, createFaceVariable\n",
    "from pyfvtool.boundary import createBC\n",
    "from pyfvtool.diffusion import diffusionTerm\n",
    "from pyfvtool.source import constantSourceTerm\n",
    "from pyfvtool.boundary import boundaryCondition\n",
    "from pyfvtool.pdesolver import solvePDE\n",
    "from pyfvtool.visualization import visualizeCells"
   ]
  },
  {
   "cell_type": "code",
   "execution_count": null,
   "id": "fcdd31ce",
   "metadata": {},
   "outputs": [],
   "source": [
    "# Define the domain and create a mesh structure\n",
    "L = 20      # domain length\n",
    "# Nx = 10000  # number of cells (original)\n",
    "Nx = 100000  # number of cells (test)\n",
    "m = createMesh1D(Nx, L)\n",
    "\n",
    "# Create the boundary condition structure\n",
    "BC = createBC(m)  # Neumann boundary conditions \n",
    "\n",
    "# left-boundary:\n",
    "BC.left.a = 0.0\n",
    "BC.left.b = 1.0\n",
    "BC.left.c = 0.0\n",
    "\n",
    "# right-boundary (Neumann is the default in this package)\n",
    "BC.right.a = 1.00 \n",
    "BC.right.b = 0.0 \n",
    "BC.right.c = 0.0\n",
    "\n",
    "x = m.cellcenters.x-0.5*L; # shift the domain to [-10,10]\n",
    "\n",
    "# define the transfer coeffs\n",
    "D_val = 1;\n",
    "D = createFaceVariable(m, D_val);\n",
    "\n",
    "# define source term\n",
    "def rho(x):\n",
    "    # rho = @(x)(-1.0*((x>=-1.0)&(x<=0))+((x>0)&(x<=1)));\n",
    "    return -1.0*((x>=-1.0)*(x<=0))+(x>0)*(x<=1)\n",
    "\n",
    "s1 = constantSourceTerm(createCellVariable(m, rho(x)))\n",
    "Mdiff = diffusionTerm(D)\n",
    "Mbc, RHSbc = boundaryCondition(BC)\n",
    "\n",
    "M = Mdiff + Mbc\n",
    "RHS = -s1+RHSbc\n",
    "c = solvePDE(m, M, RHS)\n"
   ]
  },
  {
   "cell_type": "code",
   "execution_count": null,
   "id": "ce6da8d0",
   "metadata": {},
   "outputs": [],
   "source": [
    "# visualization\n",
    "plt.figure()\n",
    "plt.plot(x, c.value[:Nx], 'k-', label='Potential distr. (num. sol.)')\n",
    "plt.plot(x, rho(x), 'b-', label='Charge distr.')\n",
    "plt.xlabel('Length [m]')\n",
    "plt.ylabel(r'$\\varphi$')\n",
    "plt.legend(fontsize=12, loc='best')\n"
   ]
  },
  {
   "cell_type": "code",
   "execution_count": null,
   "id": "faa1fc4a",
   "metadata": {},
   "outputs": [],
   "source": [
    "# Utility to peek at solution \n",
    "plt.figure()\n",
    "visualizeCells(phi=c, vmin=0.0, vmax=0.0, cmap=\"viridis\", shading=\"gouraud\")"
   ]
  },
  {
   "cell_type": "code",
   "execution_count": null,
   "id": "e9dc1e12",
   "metadata": {},
   "outputs": [],
   "source": []
  }
 ],
 "metadata": {
  "kernelspec": {
   "display_name": "env",
   "language": "python",
   "name": "env"
  },
  "language_info": {
   "codemirror_mode": {
    "name": "ipython",
    "version": 3
   },
   "file_extension": ".py",
   "mimetype": "text/x-python",
   "name": "python",
   "nbconvert_exporter": "python",
   "pygments_lexer": "ipython3",
   "version": "3.7.3"
  }
 },
 "nbformat": 4,
 "nbformat_minor": 5
}
