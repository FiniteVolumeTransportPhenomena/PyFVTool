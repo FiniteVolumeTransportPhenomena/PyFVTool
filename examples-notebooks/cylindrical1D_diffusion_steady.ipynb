{
 "cells": [
  {
   "cell_type": "markdown",
   "metadata": {},
   "source": [
    "# Steady-state heat diffusion in 1D cylindrical mesh\n",
    "\n",
    "version 230804, MW\n",
    "\n",
    "This example will evaluate the analytic solution for a simple steady-state heat transfer problem, and use PyFVTool to solve the same problem by the finite-volume method."
   ]
  },
  {
   "cell_type": "code",
   "execution_count": 1,
   "metadata": {},
   "outputs": [],
   "source": [
    "import numpy as np\n",
    "from numpy import exp\n",
    "import matplotlib.pyplot as plt"
   ]
  },
  {
   "cell_type": "code",
   "execution_count": 2,
   "metadata": {},
   "outputs": [],
   "source": [
    "# enable access to parent directory in order to access pyfvtool module (without pip installation)\n",
    "from sys import path\n",
    "path.append('..')"
   ]
  },
  {
   "cell_type": "code",
   "execution_count": 3,
   "metadata": {},
   "outputs": [],
   "source": [
    "# explicity import all required routines from pyfvtool\n",
    "from pyfvtool import createMeshCylindrical1D, createBC\n",
    "from pyfvtool import createCellVariable\n",
    "from pyfvtool import transientTerm, diffusionTerm\n",
    "from pyfvtool import harmonicMean, boundaryConditionTerm\n",
    "from pyfvtool import constantSourceTerm\n",
    "from pyfvtool import solvePDE"
   ]
  },
  {
   "cell_type": "code",
   "execution_count": 4,
   "metadata": {},
   "outputs": [],
   "source": [
    "# add a utility function to extract 1D profile\n",
    "# this may later become a method of CellVariable\n",
    "def get_CellVariable_profile1D(cv):\n",
    "    x = np.hstack([cv.domain.facecenters.x[0],\n",
    "                   cv.domain.cellcenters.x,\n",
    "                   cv.domain.facecenters.x[-1]])\n",
    "    phi = np.hstack([0.5*(cv.value[0]+cv.value[1]),\n",
    "                     cv.value[1:-1],\n",
    "                     0.5*(cv.value[-2]+cv.value[-1])])\n",
    "    # The size of the ghost cell is always equal to the size of the \n",
    "    # first (or last) cell within the domain. The value at the\n",
    "    # boundary can therefore be obtained by direct averaging with a\n",
    "    # weight factor of 0.5.\n",
    "    return (x, phi)"
   ]
  },
  {
   "cell_type": "markdown",
   "metadata": {},
   "source": [
    "## Problem statement\n",
    "\n",
    "The steady-state heat equation in 1D cylindrical geometry (total cylinder radius $R$), with an internal heat source (strength $S$) and Dirichlet (constant-value) outer boundary. This can model, for example the temperature (temperature $T$ relative to outer temperature) profile in a electrically resistive wire through which a current passes.\n",
    "\n",
    "$$ 0 = k \\nabla^2 T + S $$ \n",
    "\n",
    "which, under the circumstances mentioned above, should have solution\n",
    "\n",
    "$$ T(r) = \\frac{S}{4k} (R^2 - r^2) $$\n",
    "\n",
    "*Do not forget that we are in cylindrical coordinates and that $\\nabla^2$ has the corresponding form.*\n"
   ]
  },
  {
   "cell_type": "markdown",
   "metadata": {},
   "source": [
    "## System parameters\n",
    "\n",
    "It is possibly wise to not set all parameters to 1 or even integer values for testing purposes but rather use something else."
   ]
  },
  {
   "cell_type": "code",
   "execution_count": 5,
   "metadata": {
    "tags": []
   },
   "outputs": [],
   "source": [
    "R = 2.1\n",
    "k_val = 3.7 # heat transfer coefficient\n",
    "S_val = 4.2 # source strength\n",
    "T_outer = 0.0  # (outer) boundary temperature"
   ]
  },
  {
   "cell_type": "markdown",
   "metadata": {},
   "source": [
    "## Finite-volume solution with PyFVTool"
   ]
  },
  {
   "cell_type": "markdown",
   "metadata": {},
   "source": [
    "Define 1D cylindrical grid with radius $R$."
   ]
  },
  {
   "cell_type": "code",
   "execution_count": 6,
   "metadata": {},
   "outputs": [],
   "source": [
    "Nr = 50\n",
    "Lr = R"
   ]
  },
  {
   "cell_type": "code",
   "execution_count": 7,
   "metadata": {},
   "outputs": [],
   "source": [
    "mesh = createMeshCylindrical1D(Nr, Lr)"
   ]
  },
  {
   "cell_type": "markdown",
   "metadata": {},
   "source": [
    "Create coefficients of diffusion and source terms in the form of `CellVariable`s."
   ]
  },
  {
   "cell_type": "code",
   "execution_count": 8,
   "metadata": {},
   "outputs": [],
   "source": [
    "k = createCellVariable(mesh, k_val) # heat transfer coefficient"
   ]
  },
  {
   "cell_type": "code",
   "execution_count": 9,
   "metadata": {},
   "outputs": [],
   "source": [
    "S = createCellVariable(mesh, S_val)"
   ]
  },
  {
   "cell_type": "markdown",
   "metadata": {},
   "source": [
    "Create boundary condition: outer wall will be kept at 0.0. (Dirichlet boundary condition).\n",
    "\n",
    "*Always create a boundary condition instance, even when using the default no-flux boundaries. In this case, you can just create the BC without further tuning.*"
   ]
  },
  {
   "cell_type": "code",
   "execution_count": 10,
   "metadata": {},
   "outputs": [],
   "source": [
    "bc = createBC(mesh)"
   ]
  },
  {
   "cell_type": "code",
   "execution_count": 11,
   "metadata": {},
   "outputs": [],
   "source": [
    "# switch the right (=outer) boundary to Dirichlet: fixed temperature\n",
    "bc.right.a[:] = 0.0\n",
    "bc.right.b[:] = 1.0\n",
    "bc.right.c[:] = T_outer"
   ]
  },
  {
   "cell_type": "markdown",
   "metadata": {},
   "source": [
    "Set up matrix equation from the PDE terms."
   ]
  },
  {
   "cell_type": "code",
   "execution_count": 12,
   "metadata": {
    "tags": []
   },
   "outputs": [],
   "source": [
    "# the diffusion term requires the face values\n",
    "k_face = harmonicMean(k)\n",
    "Mdiff = diffusionTerm(k_face)"
   ]
  },
  {
   "cell_type": "code",
   "execution_count": 13,
   "metadata": {
    "tags": []
   },
   "outputs": [],
   "source": [
    "Mbc, RHSbc = boundaryConditionTerm(bc)"
   ]
  },
  {
   "cell_type": "code",
   "execution_count": 14,
   "metadata": {
    "tags": []
   },
   "outputs": [],
   "source": [
    "RHSsrc = constantSourceTerm(S)"
   ]
  },
  {
   "cell_type": "code",
   "execution_count": 15,
   "metadata": {
    "tags": []
   },
   "outputs": [],
   "source": [
    "M = -Mdiff + Mbc\n",
    "RHS = RHSsrc + RHSbc"
   ]
  },
  {
   "cell_type": "markdown",
   "metadata": {},
   "source": [
    "Go solve."
   ]
  },
  {
   "cell_type": "code",
   "execution_count": 16,
   "metadata": {
    "tags": []
   },
   "outputs": [],
   "source": [
    "T = solvePDE(mesh, M, RHS)"
   ]
  },
  {
   "cell_type": "markdown",
   "metadata": {},
   "source": [
    "Retrieve solution temperature profile from solution `CellVariable`."
   ]
  },
  {
   "cell_type": "code",
   "execution_count": 17,
   "metadata": {
    "tags": []
   },
   "outputs": [],
   "source": [
    "rnum, Tnum = get_CellVariable_profile1D(T)"
   ]
  },
  {
   "cell_type": "markdown",
   "metadata": {
    "tags": []
   },
   "source": [
    "## Comparison with the analytic solution"
   ]
  },
  {
   "cell_type": "code",
   "execution_count": 18,
   "metadata": {},
   "outputs": [],
   "source": [
    "r_an = np.linspace(0, R)\n",
    "T_an = (S_val/(4*k_val))*(R**2 - r_an**2)"
   ]
  },
  {
   "cell_type": "code",
   "execution_count": 19,
   "metadata": {
    "tags": []
   },
   "outputs": [
    {
     "data": {
      "text/plain": [
       "<matplotlib.legend.Legend at 0x26368e2d4e0>"
      ]
     },
     "execution_count": 19,
     "metadata": {},
     "output_type": "execute_result"
    },
    {
     "data": {
      "image/png": "[encoded data removed]",
      "text/plain": [
       "<Figure size 640x480 with 1 Axes>"
      ]
     },
     "metadata": {},
     "output_type": "display_data"
    }
   ],
   "source": [
    "plt.plot(rnum, Tnum, 'ro', label='FVM')\n",
    "plt.plot(r_an, T_an, 'k', label='analytic')\n",
    "plt.ylabel('rel. temp. $T$')\n",
    "plt.xlabel('radial position $r$')\n",
    "plt.legend()"
   ]
  },
  {
   "cell_type": "code",
   "execution_count": null,
   "metadata": {},
   "outputs": [],
   "source": []
  }
 ],
 "metadata": {
  "kernelspec": {
   "display_name": "Python 3 (ipykernel)",
   "language": "python",
   "name": "python3"
  },
  "language_info": {
   "codemirror_mode": {
    "name": "ipython",
    "version": 3
   },
   "file_extension": ".py",
   "mimetype": "text/x-python",
   "name": "python",
   "nbconvert_exporter": "python",
   "pygments_lexer": "ipython3",
   "version": "3.10.12"
  }
 },
 "nbformat": 4,
 "nbformat_minor": 4
}
