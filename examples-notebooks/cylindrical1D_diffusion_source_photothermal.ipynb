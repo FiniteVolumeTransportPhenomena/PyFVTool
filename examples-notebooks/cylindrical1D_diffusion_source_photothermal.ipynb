{
 "cells": [
  {
   "cell_type": "markdown",
   "metadata": {},
   "source": [
    "# Heat diffusion with a (photothermal) heating source in 1D-cylindrical geometry\n",
    "\n",
    "version 230817, MW"
   ]
  },
  {
   "cell_type": "markdown",
   "metadata": {},
   "source": [
    "## Introduction\n",
    "\n",
    "A weakly focussed Gaussian laser beam traverses a medium (typically a liquid containing a dye or other light-absorbing substances). The laser light is partially absorbed by the medium, leading to local heating (Naperian absorption coefficient $\\alpha$). A quantitative idea of the temperature distribution in this system can be obtained by a mathematical model.\n",
    "\n",
    "Near the focal point, the width of the Gaussian laser beam may assumed to be constant, in which case we can write a heat equation in 1D cylindrical geometry, where the temperature is considered to spatially vary only as the radial position $r$ with respect to the propagation axis of the light. There is also a time dependence, since we \"switch on\" the laser at $t = 0$.\n",
    "\n",
    "With $T$ the change in temperature and $\\dot q(r)$ the radial distribution of photothermal heat generation, the equations modeling this system can be written as follows [1]\n",
    "\n",
    "$$\n",
    "c \\rho \\frac{\\partial T(r, t)}{\\partial t} = \\dot q(r) + k \\nabla^2 T(r, t)\n",
    "$$\n",
    "\n",
    "$$\n",
    "r \\in [0, +\\infty\\rangle\n",
    "$$\n",
    "\n",
    "$$\n",
    "T(r, t=0) = 0\n",
    "$$"
   ]
  },
  {
   "cell_type": "markdown",
   "metadata": {},
   "source": [
    "The heat source term $\\dot q(r)$ is obtained from the laser beam intensity $S(r)$ and the absorption coefficient $\\alpha$.\n",
    "\n",
    "$$ \\dot q(r) = \\alpha S(r) = \\frac{2\\alpha P}{\\pi w^2}\n",
    "\\exp \\left( \\frac{-2r^2}{w^2}\\right)\n",
    "$$\n",
    "\n",
    "**to do.** Give more attention to absorption coefficent $\\alpha = \\ln(10)\\textrm{OD}/l$, see [2]. For now, $\\alpha$ will be set to $1$ throughout."
   ]
  },
  {
   "cell_type": "markdown",
   "metadata": {},
   "source": [
    "## Literature references\n",
    "\n",
    "[1] Sheldon, S. J., Knight, L. V., & Thorne, J. M. (1982). Laser-induced thermal lens effect: a new theoretical model. Applied optics, 21(9), 1663-1669.\n",
    "\n",
    "[2] Carter, C. A., & Harris, J. M. (1984). Comparison of models describing the thermal lens effect. Applied optics, 23(3), 476-481.\n",
    "\n",
    "[3] Boudebs, G. (2021). Numerical simulation of the whole thermal lensing process with Z-scan-based methods using Gaussian beams. Materials, 14(19), 5533.\n",
    "\n",
    "[5] https://nines.cs.kuleuven.be/software/QUADPACK/\n",
    "\n",
    "[6] https://www.netlib.org/quadpack/changes\n"
   ]
  },
  {
   "cell_type": "markdown",
   "metadata": {
    "id": "dMYazmnbSeHO"
   },
   "source": [
    "## Analytic solutions\n",
    "\n",
    "Several different yet equivalent expressions have been reported as an analytic solution of the heat equation above. One form employs exponential integrals [2], whereas another form uses a simplified integral expression [1][3].\n",
    "\n",
    "Here we demonstrate that both expressions are equivalent, except that the exponential integral formulation diverges at $r=0$, whereas the simplified integral expression does not. Quantitative investigation of both expressions from literature is also a good demonstration of how to evaluate analytic expressions numerically using the `scipy` and `numpy`.\n",
    "\n",
    "Where necessary the expressions from literature have been adapted to use SI units exclusively."
   ]
  },
  {
   "cell_type": "code",
   "execution_count": 1,
   "metadata": {
    "executionInfo": {
     "elapsed": 17,
     "status": "aborted",
     "timestamp": 1691223918151,
     "user": {
      "displayName": "Martinus",
      "userId": "14715266388173890240"
     },
     "user_tz": -120
    },
    "id": "Hp5LmIs6HqxX"
   },
   "outputs": [],
   "source": [
    "import numpy as np\n",
    "from numpy import pi, exp\n",
    "from scipy.special import expi\n",
    "from scipy.integrate import quad\n",
    "import matplotlib.pyplot as plt"
   ]
  },
  {
   "cell_type": "markdown",
   "metadata": {},
   "source": [
    "First, we encode the expression for the Gaussian laser beam intensity distribution."
   ]
  },
  {
   "cell_type": "code",
   "execution_count": 2,
   "metadata": {
    "executionInfo": {
     "elapsed": 19,
     "status": "aborted",
     "timestamp": 1691223918153,
     "user": {
      "displayName": "Martinus",
      "userId": "14715266388173890240"
     },
     "user_tz": -120
    },
    "id": "NfOLZQIwIRwo"
   },
   "outputs": [],
   "source": [
    "def S(r, P, w):\n",
    "  return (2*P)/(pi*w**2) * exp(-2*r**2/w**2)"
   ]
  },
  {
   "cell_type": "markdown",
   "metadata": {},
   "source": [
    "We immediatly initialize the model system parameters to experimentally realistic values. "
   ]
  },
  {
   "cell_type": "code",
   "execution_count": 3,
   "metadata": {
    "executionInfo": {
     "elapsed": 19,
     "status": "aborted",
     "timestamp": 1691223918154,
     "user": {
      "displayName": "Martinus",
      "userId": "14715266388173890240"
     },
     "user_tz": -120
    },
    "id": "8wrQgSeHIrCo"
   },
   "outputs": [],
   "source": [
    "P = 1.0e-3 # 1 mW\n",
    "w = 50e-6 # 50 µm waist\n",
    "k = 0.598 # W/(m.K)\n",
    "rho = 998.23 # kg/m3\n",
    "cp = 4184. # J/(K.kg)"
   ]
  },
  {
   "cell_type": "markdown",
   "metadata": {},
   "source": [
    "From these, we have the characteristic time $t_c$."
   ]
  },
  {
   "cell_type": "code",
   "execution_count": 4,
   "metadata": {
    "executionInfo": {
     "elapsed": 21,
     "status": "aborted",
     "timestamp": 1691223918157,
     "user": {
      "displayName": "Martinus",
      "userId": "14715266388173890240"
     },
     "user_tz": -120
    },
    "id": "v6g-5ELVKIVK"
   },
   "outputs": [],
   "source": [
    "t_c = (w**2*cp*rho)/(4*k)"
   ]
  },
  {
   "cell_type": "code",
   "execution_count": 5,
   "metadata": {
    "executionInfo": {
     "elapsed": 22,
     "status": "aborted",
     "timestamp": 1691223918158,
     "user": {
      "displayName": "Martinus",
      "userId": "14715266388173890240"
     },
     "user_tz": -120
    },
    "id": "GPjBSyZxKRMK"
   },
   "outputs": [
    {
     "name": "stdout",
     "output_type": "stream",
     "text": [
      "t_c = 4.365 ms\n"
     ]
    }
   ],
   "source": [
    "print(f't_c = {t_c*1000.:.3f} ms')"
   ]
  },
  {
   "cell_type": "markdown",
   "metadata": {},
   "source": [
    "The laser beam profile is plotted for illustration."
   ]
  },
  {
   "cell_type": "code",
   "execution_count": 6,
   "metadata": {
    "executionInfo": {
     "elapsed": 23,
     "status": "aborted",
     "timestamp": 1691223918160,
     "user": {
      "displayName": "Martinus",
      "userId": "14715266388173890240"
     },
     "user_tz": -120
    },
    "id": "UamKX_EpI7Ir"
   },
   "outputs": [
    {
     "data": {
      "image/png": "[encoded data removed]",
      "text/plain": [
       "<Figure size 640x480 with 1 Axes>"
      ]
     },
     "metadata": {},
     "output_type": "display_data"
    }
   ],
   "source": [
    "rrx = np.linspace(0, w*5, 500)\n",
    "plt.plot(rrx, S(rrx, P, w))\n",
    "plt.ylabel('irradiance [W/m2]')\n",
    "plt.xlabel('radial position [m]'); # semicolon to avoid print text object descriptor to output "
   ]
  },
  {
   "cell_type": "markdown",
   "metadata": {},
   "source": [
    "The exponential integral expression [2]  is easily evaluated using the `expi` special function routine from `scipy.special`. It will be referred to as 'Carter1984'."
   ]
  },
  {
   "cell_type": "code",
   "execution_count": 7,
   "metadata": {
    "executionInfo": {
     "elapsed": 1579,
     "status": "aborted",
     "timestamp": 1691223918161,
     "user": {
      "displayName": "Martinus",
      "userId": "14715266388173890240"
     },
     "user_tz": -120
    },
    "id": "0GaNsHFTI82L"
   },
   "outputs": [],
   "source": [
    "def DeltaT_Carter(r, t, P, w, k, t_c):\n",
    "    \"\"\"\n",
    "    Carter1984 expression\n",
    "    \"\"\"\n",
    "    alpha = 1.0 # for now. TODO\n",
    "    A = 1/(4*pi*k)\n",
    "    B = P*alpha\n",
    "    C = expi(-2*r**2/w**2) - expi(((-1/(1 + 2*t/t_c)) * (2*r**2/w**2)))\n",
    "    return A*B*C"
   ]
  },
  {
   "cell_type": "markdown",
   "metadata": {},
   "source": [
    "Accurate evaluation of the simplified integral expression [1] (which does not diverge at $r=0$) requires somewhat more elaborate code, but then uses the `scipy.integral.quad` routine which is an entry to the QUADPACK library[5][6] which numerically evaluates the integral of analytic function expressions with exquisite precision."
   ]
  },
  {
   "cell_type": "code",
   "execution_count": 8,
   "metadata": {
    "executionInfo": {
     "elapsed": 1578,
     "status": "aborted",
     "timestamp": 1691223918162,
     "user": {
      "displayName": "Martinus",
      "userId": "14715266388173890240"
     },
     "user_tz": -120
    },
    "id": "z_M7gqisMdq5"
   },
   "outputs": [],
   "source": [
    "def tlintgd(ti, tc, r2w2):\n",
    "    \"\"\"\n",
    "    integrand for photothermal heat profile analytic solution\n",
    "    \n",
    "    ti : float\n",
    "    t' in the formula (integration variable)\n",
    "    tc : float\n",
    "         t_c as specified in formula t_c=(w**2*c*rho)/(4*k)\n",
    "    r2w2 : float\n",
    "           r2w2 = r**2/w**2 (to avoid recalculation)\n",
    "\n",
    "    more optimisation may be possible (2/tc factor) but wait for now\n",
    "    \"\"\"\n",
    "    A = (1.0/(1.0 + (2*ti/tc)))\n",
    "    B = exp((-2*r2w2)/(1.0 + (2*ti/tc)))\n",
    "    return A*B\n",
    "\n",
    "def _DeltaT_Sheldon(r, t, P, w, k, cp, rho, tc):\n",
    "    \"\"\"\n",
    "    Sheldon1982 expression (scalar only)\n",
    "    \"\"\"\n",
    "    alpha = 1.0 # for now. TODO\n",
    "    A = (2*P*alpha)/(pi*cp*rho*w**2)\n",
    "    r2w2 = r**2 / w**2\n",
    "    C,_ = quad(tlintgd, 0.0, t, args = (tc, r2w2))\n",
    "    return A*C\n",
    "\n",
    "def DeltaT_Sheldon(r, t, P, w, k, cp, rho, tc):\n",
    "    \"\"\"\n",
    "    Sheldon1982 expression (scalar/vector)\n",
    "    \"\"\"\n",
    "    if type(r)==np.ndarray:\n",
    "        result = np.array([_DeltaT_Sheldon(rrr, t, P, w, k, cp, rho, t_c)\\\n",
    "                           for rrr in r])\n",
    "    else:\n",
    "        result = _DeltaT_Sheldon(r, t, P, w, k, cp, rho, t_c)\n",
    "    return result\n"
   ]
  },
  {
   "cell_type": "markdown",
   "metadata": {},
   "source": [
    "As an illustration of the equivalence between both functions, we plot both expression for a given time $t$ and set of system parameters."
   ]
  },
  {
   "cell_type": "code",
   "execution_count": 9,
   "metadata": {
    "executionInfo": {
     "elapsed": 1577,
     "status": "aborted",
     "timestamp": 1691223918162,
     "user": {
      "displayName": "Martinus",
      "userId": "14715266388173890240"
     },
     "user_tz": -120
    },
    "id": "qhdzmUlKL0vq"
   },
   "outputs": [],
   "source": [
    "rr1 = np.linspace(1e-8, w*10, 500) # not starting at zero\n",
    "rr0 = np.linspace(0, w*10, 500)   # starting at zero (Sheldon expression works here, Carter not)"
   ]
  },
  {
   "cell_type": "code",
   "execution_count": 10,
   "metadata": {
    "executionInfo": {
     "elapsed": 1572,
     "status": "aborted",
     "timestamp": 1691223918163,
     "user": {
      "displayName": "Martinus",
      "userId": "14715266388173890240"
     },
     "user_tz": -120
    },
    "id": "S1TYKCojL3-5"
   },
   "outputs": [
    {
     "data": {
      "image/png": "[encoded data removed]",
      "text/plain": [
       "<Figure size 640x480 with 1 Axes>"
      ]
     },
     "metadata": {},
     "output_type": "display_data"
    }
   ],
   "source": [
    "t = 0.1\n",
    "plt.plot(rr1, DeltaT_Carter(rr1, t, P, w, k, t_c),\n",
    "         'r-', label='Carter1984 (expon. integ.)')\n",
    "plt.plot(rr0, DeltaT_Sheldon(rr0, t, P, w, k, cp, rho, t_c),\n",
    "         'k:', label='Sheldon1982 (simple integ.)')\n",
    "plt.xlabel('radial position / m')\n",
    "plt.ylabel('temp. change / K')\n",
    "plt.legend();"
   ]
  },
  {
   "cell_type": "markdown",
   "metadata": {
    "id": "mbqRh2QczAX5"
   },
   "source": [
    "## Finite-volume solution with PyFVTool"
   ]
  },
  {
   "cell_type": "code",
   "execution_count": 11,
   "metadata": {
    "colab": {
     "base_uri": "https://localhost:8080/",
     "height": 383
    },
    "executionInfo": {
     "elapsed": 25,
     "status": "error",
     "timestamp": 1691223918148,
     "user": {
      "displayName": "Martinus",
      "userId": "14715266388173890240"
     },
     "user_tz": -120
    },
    "id": "5E1ALsqZzHfT",
    "outputId": "1cbcd13e-34c5-41d4-9fe1-52646318c398"
   },
   "outputs": [],
   "source": [
    "# explicity import all required routines from pyfvtool\n",
    "from pyfvtool import CylindricalGrid1D, BoundaryConditions\n",
    "from pyfvtool import CellVariable\n",
    "from pyfvtool import transientTerm, diffusionTerm\n",
    "from pyfvtool import harmonicMean, boundaryConditionsTerm\n",
    "from pyfvtool import constantSourceTerm\n",
    "from pyfvtool import solveMatrixPDE"
   ]
  },
  {
   "cell_type": "markdown",
   "metadata": {},
   "source": [
    "We will use the same system parameters and laser intensity function as above to ensure consistency."
   ]
  },
  {
   "cell_type": "code",
   "execution_count": 12,
   "metadata": {
    "tags": []
   },
   "outputs": [],
   "source": [
    "# set FVM-specific parameters\n",
    "Nr = 100 # number of FV cells\n",
    "Lr = 10.0*w # width of domain (for now, simply evenly spaced. TODO: improve meshing)\n",
    "T0 = 0. # initial rel. temperature\n",
    "deltat = 0.001 # FVM time step"
   ]
  },
  {
   "cell_type": "code",
   "execution_count": 13,
   "metadata": {
    "tags": []
   },
   "outputs": [],
   "source": [
    "# TODO: more attention to alpha (see previously)\n",
    "# for now, set to 1.0\n",
    "alpha = 1.0"
   ]
  },
  {
   "cell_type": "code",
   "execution_count": 14,
   "metadata": {
    "tags": []
   },
   "outputs": [],
   "source": [
    "# create grid\n",
    "mesh = CylindricalGrid1D(Nr, Lr)"
   ]
  },
  {
   "cell_type": "code",
   "execution_count": 15,
   "metadata": {
    "tags": []
   },
   "outputs": [],
   "source": [
    "bc = BoundaryConditions(mesh)\n",
    "fv_T = CellVariable(mesh, T0, bc)"
   ]
  },
  {
   "cell_type": "code",
   "execution_count": 16,
   "metadata": {
    "tags": []
   },
   "outputs": [
    {
     "ename": "AttributeError",
     "evalue": "This mesh has no coordinate labeled 'x'.",
     "output_type": "error",
     "traceback": [
      "\u001b[1;31m---------------------------------------------------------------------------\u001b[0m",
      "\u001b[1;31mAttributeError\u001b[0m                            Traceback (most recent call last)",
      "Cell \u001b[1;32mIn[16], line 1\u001b[0m\n\u001b[1;32m----> 1\u001b[0m dotqval \u001b[38;5;241m=\u001b[39m alpha\u001b[38;5;241m*\u001b[39mS(\u001b[43mmesh\u001b[49m\u001b[38;5;241;43m.\u001b[39;49m\u001b[43mcellcenters\u001b[49m\u001b[38;5;241;43m.\u001b[39;49m\u001b[43mx\u001b[49m, P, w)\n\u001b[0;32m      2\u001b[0m fv_dotq \u001b[38;5;241m=\u001b[39m CellVariable(mesh, dotqval)\n",
      "File \u001b[1;32m~\\Documents\\GitHub-mhvwerts\\PyFVTool\\src\\pyfvtool\\mesh.py:83\u001b[0m, in \u001b[0;36mCellLocation.x\u001b[1;34m(self)\u001b[0m\n\u001b[0;32m     81\u001b[0m     \u001b[38;5;28;01mreturn\u001b[39;00m \u001b[38;5;28mself\u001b[39m\u001b[38;5;241m.\u001b[39m_x\n\u001b[0;32m     82\u001b[0m \u001b[38;5;28;01melse\u001b[39;00m:\n\u001b[1;32m---> 83\u001b[0m     \u001b[38;5;28;01mraise\u001b[39;00m \u001b[38;5;167;01mAttributeError\u001b[39;00m(\u001b[38;5;124m\"\u001b[39m\u001b[38;5;124mThis mesh has no coordinate labeled \u001b[39m\u001b[38;5;124m'\u001b[39m\u001b[38;5;124mx\u001b[39m\u001b[38;5;124m'\u001b[39m\u001b[38;5;124m.\u001b[39m\u001b[38;5;124m\"\u001b[39m)\n",
      "\u001b[1;31mAttributeError\u001b[0m: This mesh has no coordinate labeled 'x'."
     ]
    }
   ],
   "source": [
    "dotqval = alpha*S(mesh.cellcenters.x, P, w)\n",
    "fv_dotq = CellVariable(mesh, dotqval)"
   ]
  },
  {
   "cell_type": "code",
   "execution_count": null,
   "metadata": {
    "tags": []
   },
   "outputs": [],
   "source": [
    "fv_k_cell = CellVariable(mesh, k)\n",
    "fv_k_face = harmonicMean(fv_k_cell)"
   ]
  },
  {
   "cell_type": "code",
   "execution_count": null,
   "metadata": {
    "tags": []
   },
   "outputs": [],
   "source": [
    "fv_transcoeff =  CellVariable(mesh, cp*rho)"
   ]
  },
  {
   "cell_type": "code",
   "execution_count": null,
   "metadata": {
    "tags": []
   },
   "outputs": [],
   "source": [
    "# create constant matrix contributions \n",
    "# (diffusion term, source term, boundary condition)\n",
    "Mdiff = diffusionTerm(fv_k_face)\n",
    "Mbc, RHSbc = boundaryConditionsTerm(bc)\n",
    "RHSsrc = constantSourceTerm(fv_dotq)"
   ]
  },
  {
   "cell_type": "code",
   "execution_count": null,
   "metadata": {
    "tags": []
   },
   "outputs": [],
   "source": [
    "t = 0.\n",
    "fv_T.value[:] = T0 # reset\n",
    "\n",
    "rr0 = np.linspace(0, w*10, 500)\n",
    "sample_i = [0, 1, 2, 5, 10, 20, 50, 100]\n",
    "OKlegend = False\n",
    "for i in range(0,101):\n",
    "    if i in sample_i:\n",
    "        r, phi = fv_T.plotprofile()\n",
    "        ln0, = plt.plot(r, phi)\n",
    "        ln1, = plt.plot(rr0, DeltaT_Sheldon(rr0, i*deltat, P, w, k, cp, rho, t_c), 'k:')\n",
    "        if not OKlegend:\n",
    "            OKlegend = True\n",
    "            ln0.set_label('FVM')\n",
    "            ln1.set_label('analytic')\n",
    "    # create time-dependent matrix contributions (transientTerm)\n",
    "    M_trans, RHS_trans = transientTerm(fv_T, deltat, fv_transcoeff)\n",
    "    # assemble matrix equation\n",
    "    M = M_trans - Mdiff + Mbc\n",
    "    RHS = RHS_trans + RHSbc + RHSsrc\n",
    "    # solve and update\n",
    "    fv_T_new = solveMatrixPDE(mesh, M, RHS)\n",
    "    fv_T.update_value(fv_T_new)\n",
    "    t += deltat\n",
    "if OKlegend:\n",
    "    plt.legend()\n",
    "plt.xlabel('radial position / m')\n",
    "plt.ylabel('temp. change / K');"
   ]
  },
  {
   "cell_type": "markdown",
   "metadata": {},
   "source": [
    "## Simple quantitative testing of numerical FV solution against analytic"
   ]
  },
  {
   "cell_type": "code",
   "execution_count": null,
   "metadata": {},
   "outputs": [],
   "source": [
    "# take last calculated time `t`\n",
    "r_num, phi_num = fv_T.plotprofile()\n",
    "phi_an_r_num = DeltaT_Sheldon(r_num, t, P, w, k, cp, rho, t_c)\n",
    "norm_err = (phi_num - phi_an_r_num)/phi_an_r_num.max()\n",
    "plt.plot(r_num, norm_err, 'o')\n",
    "plt.xlabel('radial position / m')\n",
    "plt.ylabel('norm. error FV vs analytic');"
   ]
  },
  {
   "cell_type": "code",
   "execution_count": null,
   "metadata": {},
   "outputs": [],
   "source": [
    "assert np.alltrue(np.abs(norm_err) < 0.0025)"
   ]
  }
 ],
 "metadata": {
  "colab": {
   "authorship_tag": "ABX9TyNkdAIQqEp7z+dlWFRWgxp2",
   "provenance": [
    {
     "file_id": "1qIscS9HHMcSYwTf9TUCE3NwVDDOVx8dt",
     "timestamp": 1691223821308
    }
   ]
  },
  "kernelspec": {
   "display_name": "Python 3 (ipykernel)",
   "language": "python",
   "name": "python3"
  },
  "language_info": {
   "codemirror_mode": {
    "name": "ipython",
    "version": 3
   },
   "file_extension": ".py",
   "mimetype": "text/x-python",
   "name": "python",
   "nbconvert_exporter": "python",
   "pygments_lexer": "ipython3",
   "version": "3.12.1"
  }
 },
 "nbformat": 4,
 "nbformat_minor": 4
}
