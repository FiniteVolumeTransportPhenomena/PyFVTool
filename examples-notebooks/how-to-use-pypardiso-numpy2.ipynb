{
 "cells": [
  {
   "cell_type": "markdown",
   "id": "f5ac2f81-49ec-48e8-9968-4d5f3c882a61",
   "metadata": {},
   "source": [
    "# Using pypardiso as an external sparse direct solver for PyFVTool\n",
    "\n",
    "---\n",
    "\n",
    "MW, 230908, 240503\n",
    "\n",
    "250620: Special modified version to test PyPardiso fix for NumPy2\n",
    "\n",
    "\n",
    "\n",
    "---\n",
    "\n",
    "This is an example of how to use an external sparse solver with PyFVTool. It is also a draft for future documentation on the subject, as part of the PyFVTool documentation.\n",
    "\n",
    "An external solver can be supplied as an optional argument to `pyfvtool.solvePDE()`, *e.g.*\n",
    "\n",
    "```python\n",
    "pf.solvePDE(phi, eqnterms,\n",
    "            externalsolver = solveur)\n",
    "```\n",
    "\n",
    "where `solveur` is a function that will be called instead of `scipy.sparse.linalg.spsolve(A, b)`. In this example, we use `pypardiso.spsolve(A, b)`."
   ]
  },
  {
   "cell_type": "markdown",
   "id": "ec93bdd4-096c-46e1-8258-60118a4e29f2",
   "metadata": {},
   "source": [
    "\n",
    "## Install pypardiso\n",
    "\n",
    "[`pypardiso`](https://github.com/haasad/PyPardisoProject) is a simple Python interface to the [Intel MKL PARDISO solver](https://www.intel.com/content/www/us/en/docs/onemkl/developer-reference-c/2023-2/onemkl-pardiso-parallel-direct-sparse-solver-iface.html)\n",
    "\n",
    "250620: Special modified version to test PyPardiso fix for NumPy2 (https://github.com/haasad/PyPardiso/pull/79)\n",
    "\n",
    "First, prepare your conda environment with NumPy 2.x etc.\n",
    "\n",
    "Finally, install PyPardiso as the last package, and use `pip` to get the specially patched version:\n",
    "\n",
    "```\n",
    "pip install git+https://github.com/urob/PyPardiso.git@fix-type-mismatch\n",
    "```\n"
   ]
  },
  {
   "cell_type": "markdown",
   "id": "c827dee8-ae1e-4d35-894a-49bca4c3caf1",
   "metadata": {},
   "source": [
    "## Test drive pypardiso\n",
    "\n",
    "Using the example from the pypardiso README."
   ]
  },
  {
   "cell_type": "code",
   "execution_count": 1,
   "id": "0e77a132-0f37-491c-a58e-6d5a39b0c60e",
   "metadata": {},
   "outputs": [],
   "source": [
    "import sys\n",
    "import numpy as np\n",
    "import scipy as sp\n",
    "from scipy import sparse\n",
    "import matplotlib.pyplot as plt\n",
    "import pypardiso"
   ]
  },
  {
   "cell_type": "markdown",
   "id": "01afb5ed-9735-45ea-a40d-fdfeb2f8f171",
   "metadata": {},
   "source": [
    "pypardiso version 0.4.6 or later is required!"
   ]
  },
  {
   "cell_type": "code",
   "execution_count": 2,
   "id": "3b468728-8a4e-4614-8d7d-bbdc0da11c74",
   "metadata": {},
   "outputs": [
    {
     "name": "stdout",
     "output_type": "stream",
     "text": [
      "Python 3.12.9 | packaged by conda-forge | (main, Mar  4 2025, 22:37:18) [MSC v.1943 64 bit (AMD64)]\n",
      "NumPy version    :  2.3.0\n",
      "SciPy version    :  1.15.2\n",
      "PyPardiso version:  0.1.dev230+gaf15ab2\n"
     ]
    }
   ],
   "source": [
    "print('Python', sys.version)\n",
    "print('NumPy version    : ', np.__version__)\n",
    "print('SciPy version    : ', sp.__version__)\n",
    "print('PyPardiso version: ', pypardiso.__version__)"
   ]
  },
  {
   "cell_type": "code",
   "execution_count": 3,
   "id": "fd00e51e-2bc8-4e55-abdf-1445977a2c72",
   "metadata": {},
   "outputs": [],
   "source": [
    "A = sparse.rand(10, 10, density=0.5, format='csr')"
   ]
  },
  {
   "cell_type": "code",
   "execution_count": 4,
   "id": "29c6c0a7-6f4f-4728-ac02-6e6f3b5c3ca8",
   "metadata": {},
   "outputs": [],
   "source": [
    "b = np.random.rand(10)"
   ]
  },
  {
   "cell_type": "code",
   "execution_count": 5,
   "id": "66613514-0885-456a-932f-c40d10a84297",
   "metadata": {},
   "outputs": [],
   "source": [
    "x = pypardiso.spsolve(A, b)"
   ]
  },
  {
   "cell_type": "code",
   "execution_count": 6,
   "id": "6d20b1a3-09af-43d4-9d05-3c93a6980e39",
   "metadata": {},
   "outputs": [
    {
     "data": {
      "text/plain": [
       "array([-2.3764147 ,  1.73068708,  2.29913807,  2.93610322, -2.76931923,\n",
       "       -0.14429342, -1.87184444, -2.13042486,  0.70578461,  1.89171707])"
      ]
     },
     "execution_count": 6,
     "metadata": {},
     "output_type": "execute_result"
    }
   ],
   "source": [
    "x"
   ]
  },
  {
   "cell_type": "markdown",
   "id": "ba7f0702-7886-4df5-92fd-585a3af98374",
   "metadata": {},
   "source": [
    "## PyFVTool finite-volume (from cylindrical2D_convection notebook)"
   ]
  },
  {
   "cell_type": "code",
   "execution_count": 7,
   "id": "3062d8af-4a6f-4285-b910-b50b3f72027c",
   "metadata": {},
   "outputs": [],
   "source": [
    "from time import time\n",
    "import pyfvtool as pf"
   ]
  },
  {
   "cell_type": "markdown",
   "id": "df8e1325-198a-47a6-8e71-06b3604a6ed5",
   "metadata": {},
   "source": [
    "#### Utility functions"
   ]
  },
  {
   "cell_type": "code",
   "execution_count": 8,
   "id": "b56afb82-9f77-406f-829c-321b741b3c16",
   "metadata": {},
   "outputs": [],
   "source": [
    "# visualization routine (imshow-based)\n",
    "def phi_visualize():\n",
    "    print(f't = {t:.1f} s')\n",
    "    # avoid ghost cells\n",
    "    plt.imshow(phi.value, origin = 'lower',\n",
    "               extent = [zz[0], zz[-1], rr[0]*rzoom, rr[-1]*rzoom])"
   ]
  },
  {
   "cell_type": "code",
   "execution_count": 9,
   "id": "1cd0611d-f786-4fa2-a278-9b8cb158b03b",
   "metadata": {},
   "outputs": [],
   "source": [
    "# calculate simple finite-volume integral over r\n",
    "def integral_dr(phi0):\n",
    "    v = phi0.cellvolume\n",
    "    c = phi0.value\n",
    "    return (v*c).sum(axis=0)"
   ]
  },
  {
   "cell_type": "markdown",
   "id": "44b77e8a-d5fb-4229-8d1b-741447fb32fd",
   "metadata": {},
   "source": [
    "#### FVM settings"
   ]
  },
  {
   "cell_type": "code",
   "execution_count": 10,
   "id": "b70cedd2-baae-40e6-a123-65007b605c93",
   "metadata": {},
   "outputs": [],
   "source": [
    "Lr = 7.5e-05 # [m] radius of cylinder\n",
    "Lz = 0.3 # [m] length of cylinder\n",
    "umax = 2*9.4314e-3 # [m s^-1] max flow velocity = 2 time average flow velocity"
   ]
  },
  {
   "cell_type": "code",
   "execution_count": 11,
   "id": "b331b3d2-e52d-4852-8233-5b6794632859",
   "metadata": {},
   "outputs": [],
   "source": [
    "# regular grid parameters\n",
    "Nr = 40\n",
    "Nz = 500"
   ]
  },
  {
   "cell_type": "code",
   "execution_count": 12,
   "id": "7a1af730-d1d4-49c1-b567-a82aa5f4014a",
   "metadata": {},
   "outputs": [],
   "source": [
    "# initial condition parameters (cell indices)\n",
    "loadix0 = 20\n",
    "loadix1 = 40"
   ]
  },
  {
   "cell_type": "code",
   "execution_count": 13,
   "id": "2addc814-63d0-4e00-b3b1-f85fc3fd8b25",
   "metadata": {},
   "outputs": [],
   "source": [
    "# timestep parameters\n",
    "deltat = 0.01 # [s] per time step"
   ]
  },
  {
   "cell_type": "code",
   "execution_count": 14,
   "id": "fbd7f090-6a9f-4510-9c64-364ab2e72c43",
   "metadata": {},
   "outputs": [],
   "source": [
    "# visualization parameters\n",
    "rzoom = 1000"
   ]
  },
  {
   "cell_type": "markdown",
   "id": "e0c228f5-ad35-40e0-817e-55ea640b5cfe",
   "metadata": {},
   "source": [
    "#### 2D cylindrical mesh"
   ]
  },
  {
   "cell_type": "code",
   "execution_count": 15,
   "id": "7831e5d0-d129-482d-9b26-590cc5f97a5a",
   "metadata": {},
   "outputs": [],
   "source": [
    "msh = pf.CylindricalGrid2D(Nr, Nz, Lr, Lz)"
   ]
  },
  {
   "cell_type": "markdown",
   "id": "32216205-b7a3-49eb-9fca-feb9cd98a637",
   "metadata": {},
   "source": [
    "#### Set up Poiseuille flow velocity field"
   ]
  },
  {
   "cell_type": "code",
   "execution_count": 16,
   "id": "0264a95e-db00-4441-b988-9be0c8bf26f3",
   "metadata": {},
   "outputs": [],
   "source": [
    "rr = msh.cellcenters.r\n",
    "zz = msh.facecenters.z"
   ]
  },
  {
   "cell_type": "code",
   "execution_count": 17,
   "id": "399ea439-8a21-45ff-afe9-034f8e410164",
   "metadata": {},
   "outputs": [],
   "source": [
    "uu =  umax*(1 - (rr**2)/(Lr**2)) # does not depend on zz"
   ]
  },
  {
   "cell_type": "code",
   "execution_count": 18,
   "id": "0f0dfe6b-95f0-4532-a6c9-8d63e863661b",
   "metadata": {},
   "outputs": [],
   "source": [
    "u =  pf.FaceVariable(msh, 1.0)"
   ]
  },
  {
   "cell_type": "code",
   "execution_count": 19,
   "id": "e141e300-0b88-4fb8-a3d4-251e9fa98f4a",
   "metadata": {},
   "outputs": [],
   "source": [
    "u.rvalue[:] = 0\n",
    "u.zvalue[:] = uu[:, np.newaxis]"
   ]
  },
  {
   "cell_type": "markdown",
   "id": "149e0f7b-f14e-4507-98b1-729df06739bc",
   "metadata": {},
   "source": [
    "#### Solution variable"
   ]
  },
  {
   "cell_type": "code",
   "execution_count": 20,
   "id": "efb9f15b-93ef-496f-8941-e507faaed92e",
   "metadata": {},
   "outputs": [],
   "source": [
    "bc = pf.BoundaryConditions(msh)"
   ]
  },
  {
   "cell_type": "code",
   "execution_count": 21,
   "id": "2563b8d6-a57b-4ed5-a958-5ffbc478fc66",
   "metadata": {},
   "outputs": [],
   "source": [
    "phi = pf.CellVariable(msh, 0.0 , bc)"
   ]
  },
  {
   "cell_type": "markdown",
   "id": "ae0736a3-107c-4f6a-b093-b5d06cb8d54b",
   "metadata": {},
   "source": [
    "#### Initial condition"
   ]
  },
  {
   "cell_type": "code",
   "execution_count": 22,
   "id": "89b7fda9-871d-4ad3-afff-2723f108ff79",
   "metadata": {},
   "outputs": [],
   "source": [
    "t=0."
   ]
  },
  {
   "cell_type": "code",
   "execution_count": 23,
   "id": "bc57e0e8-7fa2-45fb-b422-9b6a38e98c57",
   "metadata": {},
   "outputs": [],
   "source": [
    "# initial condition\n",
    "for i in range(loadix0, loadix1):\n",
    "    phi.value[:, i] = 1.0"
   ]
  },
  {
   "cell_type": "code",
   "execution_count": 24,
   "id": "5c596a4c-c983-48cb-888f-5338c66b106b",
   "metadata": {},
   "outputs": [
    {
     "name": "stdout",
     "output_type": "stream",
     "text": [
      "t = 0.0 s\n"
     ]
    },
    {
     "data": {
      "image/png": "[encoded data removed]",
      "text/plain": [
       "<Figure size 640x480 with 1 Axes>"
      ]
     },
     "metadata": {},
     "output_type": "display_data"
    }
   ],
   "source": [
    "phi_visualize()"
   ]
  },
  {
   "cell_type": "code",
   "execution_count": 25,
   "id": "73f8ace3-dd40-4b75-9410-6ef40c8cda29",
   "metadata": {},
   "outputs": [],
   "source": [
    "initInt = phi.domainIntegral()\n",
    "# print(initInt)"
   ]
  },
  {
   "cell_type": "code",
   "execution_count": 26,
   "id": "f27415f5-5a94-41c8-9f7e-a35e57f61ccf",
   "metadata": {},
   "outputs": [],
   "source": [
    "phiprofs = []\n",
    "phiprofs.append((t, integral_dr(phi)))"
   ]
  },
  {
   "cell_type": "markdown",
   "id": "37b32d38-17c1-4e69-8657-f1ec723d8fea",
   "metadata": {},
   "source": [
    "### Solve the convection PDE with time-stepping"
   ]
  },
  {
   "cell_type": "code",
   "execution_count": 27,
   "id": "98594df8-a52a-416d-820a-5ee83c3a514c",
   "metadata": {},
   "outputs": [],
   "source": [
    "exect0 = time()"
   ]
  },
  {
   "cell_type": "code",
   "execution_count": 28,
   "id": "6ca90110-c48c-46c2-83c1-c6ace789e13f",
   "metadata": {},
   "outputs": [],
   "source": [
    "# The convection term only needs to be constructed once, since it\n",
    "# will be constant during all time steps.\n",
    "# convectionterm = pf.convectionTerm(u) # really ugly results?\n",
    "convectionterm = pf.convectionUpwindTerm(u) # numerical diffusion\n",
    "\n",
    "def step_solver(Nstp):\n",
    "    global t\n",
    "\n",
    "    for i in range(Nstp):\n",
    "        # Transient term needs to be re-evaluated at each time step\n",
    "        transientterm = pf.transientTerm(phi, deltat, 1.0)\n",
    "        eqnterms = [transientterm,\n",
    "                    convectionterm]\n",
    "        # solve the PDE using pypardiso.spsolve as the external solver\n",
    "        pf.solvePDE(phi, eqnterms,\n",
    "                    externalsolver = pypardiso.spsolve)\n",
    "        t += deltat"
   ]
  },
  {
   "cell_type": "code",
   "execution_count": 29,
   "id": "50f94ce2-cd02-4849-a4b0-c287ee87205e",
   "metadata": {},
   "outputs": [],
   "source": [
    "step_solver(200)\n",
    "phiprofs.append((t, integral_dr(phi)))"
   ]
  },
  {
   "cell_type": "code",
   "execution_count": 30,
   "id": "ad8521f0-72d0-4a1b-b529-34ac0563aa26",
   "metadata": {},
   "outputs": [],
   "source": [
    "# print(t, initInt, pf.domainInt(phi))\n",
    "# test conservation of mass\n",
    "assert np.isclose(initInt, phi.domainIntegral())"
   ]
  },
  {
   "cell_type": "code",
   "execution_count": 31,
   "id": "ec265066-a81f-4e47-a6d6-d63c50c0e622",
   "metadata": {},
   "outputs": [
    {
     "name": "stdout",
     "output_type": "stream",
     "text": [
      "t = 2.0 s\n"
     ]
    },
    {
     "data": {
      "image/png": "[encoded data removed]",
      "text/plain": [
       "<Figure size 640x480 with 1 Axes>"
      ]
     },
     "metadata": {},
     "output_type": "display_data"
    }
   ],
   "source": [
    "phi_visualize()"
   ]
  },
  {
   "cell_type": "code",
   "execution_count": 32,
   "id": "2048546e-02c5-440e-84b7-91abcf43732e",
   "metadata": {},
   "outputs": [],
   "source": [
    "step_solver(300)\n",
    "phiprofs.append((t, integral_dr(phi)))"
   ]
  },
  {
   "cell_type": "code",
   "execution_count": 33,
   "id": "79e2c6d4-bc8c-4e8e-9faf-60719118371f",
   "metadata": {},
   "outputs": [],
   "source": [
    "step_solver(500)\n",
    "phiprofs.append((t, integral_dr(phi)))"
   ]
  },
  {
   "cell_type": "code",
   "execution_count": 34,
   "id": "f69518d9-b522-4a0c-ae99-15dc36398106",
   "metadata": {},
   "outputs": [
    {
     "name": "stdout",
     "output_type": "stream",
     "text": [
      "9.999999999999831 2.1205750411731096e-10 2.1205750411729896e-10\n"
     ]
    }
   ],
   "source": [
    "print(t, initInt, phi.domainIntegral())"
   ]
  },
  {
   "cell_type": "code",
   "execution_count": 35,
   "id": "14ea960f-2d57-4c5f-912d-758cd3b03617",
   "metadata": {},
   "outputs": [
    {
     "name": "stdout",
     "output_type": "stream",
     "text": [
      "t = 10.0 s\n"
     ]
    },
    {
     "data": {
      "image/png": "[encoded data removed]",
      "text/plain": [
       "<Figure size 640x480 with 1 Axes>"
      ]
     },
     "metadata": {},
     "output_type": "display_data"
    }
   ],
   "source": [
    "phi_visualize()"
   ]
  },
  {
   "cell_type": "code",
   "execution_count": 36,
   "id": "81ba399b-f716-4e59-b8b7-9b20fc74c86b",
   "metadata": {},
   "outputs": [
    {
     "data": {
      "image/png": "[encoded data removed]",
      "text/plain": [
       "<Figure size 640x480 with 1 Axes>"
      ]
     },
     "metadata": {},
     "output_type": "display_data"
    }
   ],
   "source": [
    "for ix, (tprof, phiprof) in enumerate(phiprofs):\n",
    "    if ix == 2:\n",
    "        lbl1 = 'FVM'\n",
    "    else:\n",
    "        lbl1 = None\n",
    "    plt.plot(phi.domain.cellcenters.z, phiprof, \n",
    "             label=lbl1)\n",
    "plt.xlabel('z / m')\n",
    "plt.legend();"
   ]
  },
  {
   "cell_type": "code",
   "execution_count": 37,
   "id": "976a4cd4-5b88-4f0b-a184-dbe4dcde8aeb",
   "metadata": {},
   "outputs": [],
   "source": [
    "exect1 = time()"
   ]
  },
  {
   "cell_type": "code",
   "execution_count": 38,
   "id": "1488bee9-d24f-411f-8886-ba0a105f309c",
   "metadata": {},
   "outputs": [
    {
     "name": "stdout",
     "output_type": "stream",
     "text": [
      "Elapsed time  29.062185287475586 s\n"
     ]
    }
   ],
   "source": [
    "print('Elapsed time ', exect1 - exect0, 's')"
   ]
  },
  {
   "cell_type": "code",
   "execution_count": 39,
   "id": "b7abecb1-1ca3-4e19-9631-175063ff8ae8",
   "metadata": {},
   "outputs": [],
   "source": [
    "# Execution time benchmark results \n",
    "#    - Werts' computer (in 'best performance' power management mode)\n",
    "#\n",
    "# Elapsed time  2.36826229095459  s (pypardiso.spsolve via solveur function)\n",
    "# Elapsed time  5.680087327957153 s (scipy.sparse.linalg.spsolve SuperLU)"
   ]
  },
  {
   "cell_type": "code",
   "execution_count": null,
   "id": "c15e591f-994b-44ba-b069-06581db6d907",
   "metadata": {},
   "outputs": [],
   "source": []
  }
 ],
 "metadata": {
  "kernelspec": {
   "display_name": "Python 3 (ipykernel)",
   "language": "python",
   "name": "python3"
  },
  "language_info": {
   "codemirror_mode": {
    "name": "ipython",
    "version": 3
   },
   "file_extension": ".py",
   "mimetype": "text/x-python",
   "name": "python",
   "nbconvert_exporter": "python",
   "pygments_lexer": "ipython3",
   "version": "3.12.9"
  }
 },
 "nbformat": 4,
 "nbformat_minor": 5
}
