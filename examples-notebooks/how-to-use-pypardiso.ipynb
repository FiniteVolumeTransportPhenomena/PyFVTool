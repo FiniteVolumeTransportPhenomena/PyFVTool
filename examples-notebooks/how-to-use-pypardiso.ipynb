{
 "cells": [
  {
   "cell_type": "markdown",
   "id": "f5ac2f81-49ec-48e8-9968-4d5f3c882a61",
   "metadata": {},
   "source": [
    "# Using pypardiso sparse direct solver with PyFVTool"
   ]
  },
  {
   "cell_type": "markdown",
   "id": "ec93bdd4-096c-46e1-8258-60118a4e29f2",
   "metadata": {},
   "source": [
    "\n",
    "## Install pypardiso\n",
    "\n",
    "[`pypardiso`](https://github.com/haasad/PyPardisoProject) is a simple Python interface to the [Intel MKL PARDISO solver](https://www.intel.com/content/www/us/en/docs/onemkl/developer-reference-c/2023-2/onemkl-pardiso-parallel-direct-sparse-solver-iface.html)\n",
    "\n",
    "Using `miniconda`/`mambaforge` with exclusively the Conda-forge repositories, `pypardiso` is readily installed (tested only on Windows 10).\n",
    "\n",
    "```\n",
    "mamba install pypardiso\n",
    "```\n"
   ]
  },
  {
   "cell_type": "markdown",
   "id": "c827dee8-ae1e-4d35-894a-49bca4c3caf1",
   "metadata": {},
   "source": [
    "## Test drive pypardiso\n",
    "\n",
    "Using the example from the pypardiso README. This example is not ideal, because of the random numbers, which do not play well with the present testing infrastructure."
   ]
  },
  {
   "cell_type": "code",
   "execution_count": 1,
   "id": "0e77a132-0f37-491c-a58e-6d5a39b0c60e",
   "metadata": {},
   "outputs": [],
   "source": [
    "import numpy as np\n",
    "import scipy.sparse as sp\n",
    "import matplotlib.pyplot as plt\n",
    "import pypardiso"
   ]
  },
  {
   "cell_type": "code",
   "execution_count": 2,
   "id": "3b468728-8a4e-4614-8d7d-bbdc0da11c74",
   "metadata": {},
   "outputs": [
    {
     "data": {
      "text/plain": [
       "'0.4.2'"
      ]
     },
     "execution_count": 2,
     "metadata": {},
     "output_type": "execute_result"
    }
   ],
   "source": [
    "pypardiso.__version__"
   ]
  },
  {
   "cell_type": "code",
   "execution_count": 3,
   "id": "fd00e51e-2bc8-4e55-abdf-1445977a2c72",
   "metadata": {},
   "outputs": [],
   "source": [
    "A = sp.rand(10, 10, density=0.5, format='csr')"
   ]
  },
  {
   "cell_type": "code",
   "execution_count": 4,
   "id": "0cdf14c7-868c-4163-ba20-f580a89e8b17",
   "metadata": {},
   "outputs": [
    {
     "data": {
      "text/plain": [
       "<10x10 sparse matrix of type '<class 'numpy.float64'>'\n",
       "\twith 50 stored elements in Compressed Sparse Row format>"
      ]
     },
     "execution_count": 4,
     "metadata": {},
     "output_type": "execute_result"
    }
   ],
   "source": [
    "A"
   ]
  },
  {
   "cell_type": "code",
   "execution_count": 5,
   "id": "29c6c0a7-6f4f-4728-ac02-6e6f3b5c3ca8",
   "metadata": {},
   "outputs": [],
   "source": [
    "b = np.random.rand(10)"
   ]
  },
  {
   "cell_type": "code",
   "execution_count": 6,
   "id": "66613514-0885-456a-932f-c40d10a84297",
   "metadata": {},
   "outputs": [],
   "source": [
    "x = pypardiso.spsolve(A, b)"
   ]
  },
  {
   "cell_type": "code",
   "execution_count": 7,
   "id": "6d20b1a3-09af-43d4-9d05-3c93a6980e39",
   "metadata": {},
   "outputs": [],
   "source": [
    "# do not output result\n",
    "# x"
   ]
  },
  {
   "cell_type": "markdown",
   "id": "ba7f0702-7886-4df5-92fd-585a3af98374",
   "metadata": {},
   "source": [
    "## PyFVTool finite-volume (from cylindrical2D_convection notebook)"
   ]
  },
  {
   "cell_type": "code",
   "execution_count": 8,
   "id": "3062d8af-4a6f-4285-b910-b50b3f72027c",
   "metadata": {},
   "outputs": [],
   "source": [
    "# enable access to parent directory in order to access pyfvtool module (without pip installation)\n",
    "from sys import path\n",
    "path.append('..')\n",
    "\n",
    "from time import time\n",
    "import pyfvtool as pf"
   ]
  },
  {
   "cell_type": "markdown",
   "id": "df8e1325-198a-47a6-8e71-06b3604a6ed5",
   "metadata": {},
   "source": [
    "#### Utility functions"
   ]
  },
  {
   "cell_type": "code",
   "execution_count": 9,
   "id": "b56afb82-9f77-406f-829c-321b741b3c16",
   "metadata": {},
   "outputs": [],
   "source": [
    "# visualization routine (imshow-based)\n",
    "def phi_visualize():\n",
    "    print(f't = {t:.1f} s')\n",
    "    # avoid ghost cells\n",
    "    plt.imshow(phi.internalCells(), origin = 'lower',\n",
    "               extent = [zz[0], zz[-1], rr[0]*rzoom, rr[-1]*rzoom])"
   ]
  },
  {
   "cell_type": "code",
   "execution_count": 10,
   "id": "1cd0611d-f786-4fa2-a278-9b8cb158b03b",
   "metadata": {},
   "outputs": [],
   "source": [
    "# calculate simple finite-volume integral over r\n",
    "def integral_dr(phi0):\n",
    "    v = pf.cellVolume(phi0.domain).internalCells()\n",
    "    c = phi0.internalCells()\n",
    "    return (v*c).sum(axis=0)"
   ]
  },
  {
   "cell_type": "markdown",
   "id": "44b77e8a-d5fb-4229-8d1b-741447fb32fd",
   "metadata": {},
   "source": [
    "#### FVM settings"
   ]
  },
  {
   "cell_type": "code",
   "execution_count": 11,
   "id": "b70cedd2-baae-40e6-a123-65007b605c93",
   "metadata": {},
   "outputs": [],
   "source": [
    "Lr = 7.5e-05 # [m] radius of cylinder\n",
    "Lz = 0.3 # [m] length of cylinder\n",
    "umax = 2*9.4314e-3 # [m s^-1] max flow velocity = 2 time average flow velocity"
   ]
  },
  {
   "cell_type": "code",
   "execution_count": 12,
   "id": "b331b3d2-e52d-4852-8233-5b6794632859",
   "metadata": {},
   "outputs": [],
   "source": [
    "# regular grid parameters\n",
    "Nr = 40\n",
    "Nz = 500"
   ]
  },
  {
   "cell_type": "code",
   "execution_count": 13,
   "id": "7a1af730-d1d4-49c1-b567-a82aa5f4014a",
   "metadata": {},
   "outputs": [],
   "source": [
    "# initial condition parameters (cell indices)\n",
    "loadix0 = 20\n",
    "loadix1 = 40"
   ]
  },
  {
   "cell_type": "code",
   "execution_count": 14,
   "id": "2addc814-63d0-4e00-b3b1-f85fc3fd8b25",
   "metadata": {},
   "outputs": [],
   "source": [
    "# timestep parameters\n",
    "deltat = 0.01 # [s] per time step"
   ]
  },
  {
   "cell_type": "code",
   "execution_count": 15,
   "id": "fbd7f090-6a9f-4510-9c64-364ab2e72c43",
   "metadata": {},
   "outputs": [],
   "source": [
    "# visualization parameters\n",
    "rzoom = 1000"
   ]
  },
  {
   "cell_type": "code",
   "execution_count": 16,
   "id": "f2dff316-177c-449f-80e0-b99fbbdd2bcc",
   "metadata": {},
   "outputs": [],
   "source": [
    "# SOLVER\n",
    "# solveur = sp.linalg.spsolve \n",
    "solveur = pypardiso.spsolve"
   ]
  },
  {
   "cell_type": "markdown",
   "id": "e0c228f5-ad35-40e0-817e-55ea640b5cfe",
   "metadata": {},
   "source": [
    "#### 2D cylindrical mesh"
   ]
  },
  {
   "cell_type": "code",
   "execution_count": 17,
   "id": "7831e5d0-d129-482d-9b26-590cc5f97a5a",
   "metadata": {},
   "outputs": [],
   "source": [
    "msh = pf.createMeshCylindrical2D(Nr, Nz, Lr, Lz)"
   ]
  },
  {
   "cell_type": "markdown",
   "id": "32216205-b7a3-49eb-9fca-feb9cd98a637",
   "metadata": {},
   "source": [
    "#### Set up Poiseuille flow velocity field"
   ]
  },
  {
   "cell_type": "code",
   "execution_count": 18,
   "id": "0264a95e-db00-4441-b988-9be0c8bf26f3",
   "metadata": {},
   "outputs": [],
   "source": [
    "rr = msh.cellcenters.x\n",
    "zz = msh.facecenters.y"
   ]
  },
  {
   "cell_type": "code",
   "execution_count": 19,
   "id": "399ea439-8a21-45ff-afe9-034f8e410164",
   "metadata": {},
   "outputs": [],
   "source": [
    "uu =  umax*(1 - (rr**2)/(Lr**2)) # does not depend on zz"
   ]
  },
  {
   "cell_type": "code",
   "execution_count": 20,
   "id": "0f0dfe6b-95f0-4532-a6c9-8d63e863661b",
   "metadata": {},
   "outputs": [],
   "source": [
    "u =  pf.createFaceVariable(msh, 1.0)"
   ]
  },
  {
   "cell_type": "code",
   "execution_count": 21,
   "id": "e141e300-0b88-4fb8-a3d4-251e9fa98f4a",
   "metadata": {},
   "outputs": [],
   "source": [
    "u.xvalue[:] = 0\n",
    "u.yvalue[:] = uu[:, np.newaxis]"
   ]
  },
  {
   "cell_type": "markdown",
   "id": "149e0f7b-f14e-4507-98b1-729df06739bc",
   "metadata": {},
   "source": [
    "#### Solution variable"
   ]
  },
  {
   "cell_type": "code",
   "execution_count": 22,
   "id": "efb9f15b-93ef-496f-8941-e507faaed92e",
   "metadata": {},
   "outputs": [],
   "source": [
    "bc = pf.createBC(msh)"
   ]
  },
  {
   "cell_type": "code",
   "execution_count": 23,
   "id": "2563b8d6-a57b-4ed5-a958-5ffbc478fc66",
   "metadata": {},
   "outputs": [],
   "source": [
    "phi = pf.createCellVariable(msh, 0.0 , bc)"
   ]
  },
  {
   "cell_type": "markdown",
   "id": "ae0736a3-107c-4f6a-b093-b5d06cb8d54b",
   "metadata": {},
   "source": [
    "#### Initial condition"
   ]
  },
  {
   "cell_type": "code",
   "execution_count": 24,
   "id": "89b7fda9-871d-4ad3-afff-2723f108ff79",
   "metadata": {},
   "outputs": [],
   "source": [
    "t=0."
   ]
  },
  {
   "cell_type": "code",
   "execution_count": 25,
   "id": "bc57e0e8-7fa2-45fb-b422-9b6a38e98c57",
   "metadata": {},
   "outputs": [],
   "source": [
    "# initial condition\n",
    "for i in range(loadix0, loadix1):\n",
    "    phi.value[:, i] = 1.0"
   ]
  },
  {
   "cell_type": "code",
   "execution_count": 26,
   "id": "5c596a4c-c983-48cb-888f-5338c66b106b",
   "metadata": {},
   "outputs": [
    {
     "name": "stdout",
     "output_type": "stream",
     "text": [
      "t = 0.0 s\n"
     ]
    },
    {
     "data": {
      "image/png": "[encoded data removed]",
      "text/plain": [
       "<Figure size 640x480 with 1 Axes>"
      ]
     },
     "metadata": {},
     "output_type": "display_data"
    }
   ],
   "source": [
    "phi_visualize()"
   ]
  },
  {
   "cell_type": "code",
   "execution_count": 27,
   "id": "73f8ace3-dd40-4b75-9410-6ef40c8cda29",
   "metadata": {},
   "outputs": [
    {
     "name": "stdout",
     "output_type": "stream",
     "text": [
      "2.1205750411731096e-10\n"
     ]
    }
   ],
   "source": [
    "initInt = pf.domainInt(phi)\n",
    "print(initInt)"
   ]
  },
  {
   "cell_type": "code",
   "execution_count": 28,
   "id": "f27415f5-5a94-41c8-9f7e-a35e57f61ccf",
   "metadata": {},
   "outputs": [],
   "source": [
    "phiprofs = []\n",
    "phiprofs.append((t, integral_dr(phi)))"
   ]
  },
  {
   "cell_type": "markdown",
   "id": "cd5cde78-036e-4f45-b3cb-9b7861e83811",
   "metadata": {},
   "source": [
    "#### Terms with constant matrix contributions"
   ]
  },
  {
   "cell_type": "code",
   "execution_count": 29,
   "id": "9dd02042-df60-4b4a-a35f-7c8470c54fde",
   "metadata": {},
   "outputs": [],
   "source": [
    "# Mconv = pf.convectionTerm(u) # really ugly?\n",
    "Mconv = pf.convectionUpwindTerm(u) # numerical diffusion"
   ]
  },
  {
   "cell_type": "code",
   "execution_count": 30,
   "id": "cfd64c64-9cfa-4506-b17c-5bea89e3f815",
   "metadata": {},
   "outputs": [],
   "source": [
    "Mbc, RHSbc = pf.boundaryConditionTerm(bc)"
   ]
  },
  {
   "cell_type": "markdown",
   "id": "37b32d38-17c1-4e69-8657-f1ec723d8fea",
   "metadata": {},
   "source": [
    "### Solve the convection PDE with time-stepping"
   ]
  },
  {
   "cell_type": "code",
   "execution_count": 31,
   "id": "98594df8-a52a-416d-820a-5ee83c3a514c",
   "metadata": {},
   "outputs": [],
   "source": [
    "exect0 = time()"
   ]
  },
  {
   "cell_type": "code",
   "execution_count": 32,
   "id": "d6f43598-325e-436c-aa04-20d9f284fa4c",
   "metadata": {},
   "outputs": [],
   "source": [
    "def do_time_steps(Nsteps):\n",
    "    global t\n",
    "    for i in range(Nsteps):\n",
    "        # create time-dependent matrix contributions (transientTerm)\n",
    "        M_trans, RHS_trans = pf.transientTerm(phi, deltat, 1.0)\n",
    "        M = M_trans + Mbc + Mconv\n",
    "        RHS = RHS_trans + RHSbc\n",
    "        phi_new = pf.solvePDE(msh, M, RHS,\n",
    "                              externalsolver = solveur)\n",
    "        phi.update_value(phi_new)\n",
    "        t += deltat"
   ]
  },
  {
   "cell_type": "code",
   "execution_count": 33,
   "id": "50f94ce2-cd02-4849-a4b0-c287ee87205e",
   "metadata": {},
   "outputs": [
    {
     "ename": "TypeError",
     "evalue": "PyPardiso requires matrix A to be in CSR or CSC format, but matrix A is: <class 'scipy.sparse._csr.csr_array'>",
     "output_type": "error",
     "traceback": [
      "\u001b[1;31m---------------------------------------------------------------------------\u001b[0m",
      "\u001b[1;31mTypeError\u001b[0m                                 Traceback (most recent call last)",
      "Cell \u001b[1;32mIn[33], line 1\u001b[0m\n\u001b[1;32m----> 1\u001b[0m \u001b[43mdo_time_steps\u001b[49m\u001b[43m(\u001b[49m\u001b[38;5;241;43m200\u001b[39;49m\u001b[43m)\u001b[49m\n\u001b[0;32m      2\u001b[0m phiprofs\u001b[38;5;241m.\u001b[39mappend((t, integral_dr(phi)))\n",
      "Cell \u001b[1;32mIn[32], line 8\u001b[0m, in \u001b[0;36mdo_time_steps\u001b[1;34m(Nsteps)\u001b[0m\n\u001b[0;32m      6\u001b[0m M \u001b[38;5;241m=\u001b[39m M_trans \u001b[38;5;241m+\u001b[39m Mbc \u001b[38;5;241m+\u001b[39m Mconv\n\u001b[0;32m      7\u001b[0m RHS \u001b[38;5;241m=\u001b[39m RHS_trans \u001b[38;5;241m+\u001b[39m RHSbc\n\u001b[1;32m----> 8\u001b[0m phi_new \u001b[38;5;241m=\u001b[39m \u001b[43mpf\u001b[49m\u001b[38;5;241;43m.\u001b[39;49m\u001b[43msolvePDE\u001b[49m\u001b[43m(\u001b[49m\u001b[43mmsh\u001b[49m\u001b[43m,\u001b[49m\u001b[43m \u001b[49m\u001b[43mM\u001b[49m\u001b[43m,\u001b[49m\u001b[43m \u001b[49m\u001b[43mRHS\u001b[49m\u001b[43m,\u001b[49m\n\u001b[0;32m      9\u001b[0m \u001b[43m                      \u001b[49m\u001b[43mexternalsolver\u001b[49m\u001b[43m \u001b[49m\u001b[38;5;241;43m=\u001b[39;49m\u001b[43m \u001b[49m\u001b[43msolveur\u001b[49m\u001b[43m)\u001b[49m\n\u001b[0;32m     10\u001b[0m phi\u001b[38;5;241m.\u001b[39mupdate_value(phi_new)\n\u001b[0;32m     11\u001b[0m t \u001b[38;5;241m+\u001b[39m\u001b[38;5;241m=\u001b[39m deltat\n",
      "File \u001b[1;32m~\\Documents\\GitHub-mhvwerts\\PyFVTool\\examples-notebooks\\..\\pyfvtool\\pdesolver.py:38\u001b[0m, in \u001b[0;36msolvePDE\u001b[1;34m(m, M, RHS, externalsolver)\u001b[0m\n\u001b[0;32m     36\u001b[0m \u001b[38;5;28;01melse\u001b[39;00m:\n\u001b[0;32m     37\u001b[0m     solver \u001b[38;5;241m=\u001b[39m externalsolver\n\u001b[1;32m---> 38\u001b[0m phi \u001b[38;5;241m=\u001b[39m \u001b[43msolver\u001b[49m\u001b[43m(\u001b[49m\u001b[43mM\u001b[49m\u001b[43m,\u001b[49m\u001b[43m \u001b[49m\u001b[43mRHS\u001b[49m\u001b[43m)\u001b[49m\n\u001b[0;32m     39\u001b[0m \u001b[38;5;28;01mreturn\u001b[39;00m CellVariable(m, np\u001b[38;5;241m.\u001b[39mreshape(phi, m\u001b[38;5;241m.\u001b[39mdims\u001b[38;5;241m+\u001b[39m\u001b[38;5;241m2\u001b[39m))\n",
      "File \u001b[1;32mC:\\Users\\Werts\\miniconda3\\envs\\std39\\lib\\site-packages\\pypardiso\\scipy_aliases.py:44\u001b[0m, in \u001b[0;36mspsolve\u001b[1;34m(A, b, factorize, squeeze, solver, *args, **kwargs)\u001b[0m\n\u001b[0;32m     41\u001b[0m \u001b[38;5;28;01mif\u001b[39;00m sp\u001b[38;5;241m.\u001b[39misspmatrix_csc(A):\n\u001b[0;32m     42\u001b[0m     A \u001b[38;5;241m=\u001b[39m A\u001b[38;5;241m.\u001b[39mtocsr()  \u001b[38;5;66;03m# fixes issue with brightway2 technosphere matrix\u001b[39;00m\n\u001b[1;32m---> 44\u001b[0m \u001b[43msolver\u001b[49m\u001b[38;5;241;43m.\u001b[39;49m\u001b[43m_check_A\u001b[49m\u001b[43m(\u001b[49m\u001b[43mA\u001b[49m\u001b[43m)\u001b[49m\n\u001b[0;32m     45\u001b[0m \u001b[38;5;28;01mif\u001b[39;00m factorize \u001b[38;5;129;01mand\u001b[39;00m \u001b[38;5;129;01mnot\u001b[39;00m solver\u001b[38;5;241m.\u001b[39m_is_already_factorized(A):\n\u001b[0;32m     46\u001b[0m     solver\u001b[38;5;241m.\u001b[39mfactorize(A)\n",
      "File \u001b[1;32mC:\\Users\\Werts\\miniconda3\\envs\\std39\\lib\\site-packages\\pypardiso\\pardiso_wrapper.py:218\u001b[0m, in \u001b[0;36mPyPardisoSolver._check_A\u001b[1;34m(self, A)\u001b[0m\n\u001b[0;32m    216\u001b[0m \u001b[38;5;28;01melse\u001b[39;00m:\n\u001b[0;32m    217\u001b[0m     msg \u001b[38;5;241m=\u001b[39m \u001b[38;5;124m'\u001b[39m\u001b[38;5;124mPyPardiso requires matrix A to be in CSR or CSC format, but matrix A is: \u001b[39m\u001b[38;5;132;01m{}\u001b[39;00m\u001b[38;5;124m'\u001b[39m\u001b[38;5;241m.\u001b[39mformat(\u001b[38;5;28mtype\u001b[39m(A))\n\u001b[1;32m--> 218\u001b[0m     \u001b[38;5;28;01mraise\u001b[39;00m \u001b[38;5;167;01mTypeError\u001b[39;00m(msg)\n\u001b[0;32m    220\u001b[0m \u001b[38;5;66;03m# scipy allows unsorted csr-indices, which lead to completely wrong pardiso results\u001b[39;00m\n\u001b[0;32m    221\u001b[0m \u001b[38;5;28;01mif\u001b[39;00m \u001b[38;5;129;01mnot\u001b[39;00m A\u001b[38;5;241m.\u001b[39mhas_sorted_indices:\n",
      "\u001b[1;31mTypeError\u001b[0m: PyPardiso requires matrix A to be in CSR or CSC format, but matrix A is: <class 'scipy.sparse._csr.csr_array'>"
     ]
    }
   ],
   "source": [
    "do_time_steps(200)\n",
    "phiprofs.append((t, integral_dr(phi)))"
   ]
  },
  {
   "cell_type": "code",
   "execution_count": null,
   "id": "ad8521f0-72d0-4a1b-b529-34ac0563aa26",
   "metadata": {},
   "outputs": [],
   "source": [
    "print(t, initInt, pf.domainInt(phi))"
   ]
  },
  {
   "cell_type": "code",
   "execution_count": null,
   "id": "ec265066-a81f-4e47-a6d6-d63c50c0e622",
   "metadata": {},
   "outputs": [],
   "source": [
    "phi_visualize()"
   ]
  },
  {
   "cell_type": "code",
   "execution_count": null,
   "id": "2048546e-02c5-440e-84b7-91abcf43732e",
   "metadata": {},
   "outputs": [],
   "source": [
    "do_time_steps(300)\n",
    "phiprofs.append((t, integral_dr(phi)))"
   ]
  },
  {
   "cell_type": "code",
   "execution_count": null,
   "id": "79e2c6d4-bc8c-4e8e-9faf-60719118371f",
   "metadata": {},
   "outputs": [],
   "source": [
    "do_time_steps(500)\n",
    "phiprofs.append((t, integral_dr(phi)))"
   ]
  },
  {
   "cell_type": "code",
   "execution_count": null,
   "id": "f69518d9-b522-4a0c-ae99-15dc36398106",
   "metadata": {},
   "outputs": [],
   "source": [
    "print(t, initInt, pf.domainInt(phi))"
   ]
  },
  {
   "cell_type": "code",
   "execution_count": null,
   "id": "14ea960f-2d57-4c5f-912d-758cd3b03617",
   "metadata": {},
   "outputs": [],
   "source": [
    "phi_visualize()"
   ]
  },
  {
   "cell_type": "code",
   "execution_count": null,
   "id": "81ba399b-f716-4e59-b8b7-9b20fc74c86b",
   "metadata": {},
   "outputs": [],
   "source": [
    "for ix, (tprof, phiprof) in enumerate(phiprofs):\n",
    "    if ix == 2:\n",
    "        lbl1 = 'FVM'\n",
    "    else:\n",
    "        lbl1 = None\n",
    "    plt.plot(phi.domain.cellcenters.y, phiprof, \n",
    "             label=lbl1)\n",
    "plt.xlabel('z / m')\n",
    "plt.legend();"
   ]
  },
  {
   "cell_type": "code",
   "execution_count": null,
   "id": "976a4cd4-5b88-4f0b-a184-dbe4dcde8aeb",
   "metadata": {},
   "outputs": [],
   "source": [
    "exect1 = time()"
   ]
  },
  {
   "cell_type": "code",
   "execution_count": null,
   "id": "1488bee9-d24f-411f-8886-ba0a105f309c",
   "metadata": {},
   "outputs": [],
   "source": [
    "print('Elapsed time ', exect1 - exect0)"
   ]
  },
  {
   "cell_type": "code",
   "execution_count": null,
   "id": "b7abecb1-1ca3-4e19-9631-175063ff8ae8",
   "metadata": {},
   "outputs": [],
   "source": []
  }
 ],
 "metadata": {
  "kernelspec": {
   "display_name": "Python 3 (ipykernel)",
   "language": "python",
   "name": "python3"
  },
  "language_info": {
   "codemirror_mode": {
    "name": "ipython",
    "version": 3
   },
   "file_extension": ".py",
   "mimetype": "text/x-python",
   "name": "python",
   "nbconvert_exporter": "python",
   "pygments_lexer": "ipython3",
   "version": "3.9.16"
  }
 },
 "nbformat": 4,
 "nbformat_minor": 5
}
