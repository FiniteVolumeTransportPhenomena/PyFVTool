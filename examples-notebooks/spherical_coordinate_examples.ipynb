{
 "cells": [
  {
   "cell_type": "markdown",
   "metadata": {},
   "source": [
    "# Advection in Spherical coordinates\n",
    "In this notebook, we will solve the advection equation in spherical coordinates using the finite volume method. The notebook serves as the first attempt at testing the implementation of advection and diffusion terms in `PyFVTool`, and might be removed in the future."
   ]
  },
  {
   "cell_type": "code",
   "execution_count": 1,
   "metadata": {},
   "outputs": [
    {
     "name": "stdout",
     "output_type": "stream",
     "text": [
      "['C:\\\\Program Files\\\\WindowsApps\\\\PythonSoftwareFoundation.Python.3.12_3.12.1264.0_x64__qbz5n2kfra8p0\\\\python312.zip', 'C:\\\\Program Files\\\\WindowsApps\\\\PythonSoftwareFoundation.Python.3.12_3.12.1264.0_x64__qbz5n2kfra8p0\\\\DLLs', 'C:\\\\Program Files\\\\WindowsApps\\\\PythonSoftwareFoundation.Python.3.12_3.12.1264.0_x64__qbz5n2kfra8p0\\\\Lib', 'C:\\\\Program Files\\\\WindowsApps\\\\PythonSoftwareFoundation.Python.3.12_3.12.1264.0_x64__qbz5n2kfra8p0', 'c:\\\\Users\\\\aliak\\\\venvs\\\\mygeo', '', 'c:\\\\Users\\\\aliak\\\\venvs\\\\mygeo\\\\Lib\\\\site-packages', 'c:\\\\Users\\\\aliak\\\\venvs\\\\mygeo\\\\Lib\\\\site-packages\\\\win32', 'c:\\\\Users\\\\aliak\\\\venvs\\\\mygeo\\\\Lib\\\\site-packages\\\\win32\\\\lib', 'c:\\\\Users\\\\aliak\\\\venvs\\\\mygeo\\\\Lib\\\\site-packages\\\\Pythonwin', 'C:\\\\projects\\\\git\\\\PyFVTool\\\\src']\n",
      "Error importing module: cannot import name 'module_name' from 'pyfvtool' (C:\\projects\\git\\PyFVTool\\src\\pyfvtool\\__init__.py)\n"
     ]
    }
   ],
   "source": [
    "import sys\n",
    "\n",
    "# Use a raw string for the path\n",
    "sys.path.append(r'C:\\projects\\git\\PyFVTool\\src')\n",
    "\n",
    "# Print sys.path to verify the path is added\n",
    "print(sys.path)\n",
    "\n",
    "\n"
   ]
  },
  {
   "cell_type": "code",
   "execution_count": 4,
   "metadata": {},
   "outputs": [],
   "source": [
    "from pyfvtool.mesh import SphericalGrid3D\n",
    "import numpy as np\n",
    "# Create a spherical grid with a 10 km thickness\n",
    "r_earth = 6371.0e3 # Earth radius in meters\n",
    "atm_layer_thickness = 10.0e3 # 10 km thickness\n",
    "m = SphericalGrid3D(10, 100, 100, atm_layer_thickness, 2*np.pi, 2*np.pi) \n",
    "# shift the grid to the Earth surface\n"
   ]
  }
 ],
 "metadata": {
  "kernelspec": {
   "display_name": "mygeo",
   "language": "python",
   "name": "python3"
  },
  "language_info": {
   "codemirror_mode": {
    "name": "ipython",
    "version": 3
   },
   "file_extension": ".py",
   "mimetype": "text/x-python",
   "name": "python",
   "nbconvert_exporter": "python",
   "pygments_lexer": "ipython3",
   "version": "3.12.4"
  }
 },
 "nbformat": 4,
 "nbformat_minor": 2
}
